{
 "cells": [
  {
   "cell_type": "markdown",
   "metadata": {},
   "source": [
    "# Housing Prices Prediction (EDA)"
   ]
  },
  {
   "cell_type": "markdown",
   "metadata": {},
   "source": [
    "### SQLite3 convert .db file to .csv file\n",
    "#### Convert a .db file and outputs to a .csv file. CSV file name is based on the table names in the .db file.\n",
    "#### there are also some automated .db to .csv conversion site could save time \"rebasedata.com/convert-sqlite-to-csv-online\""
   ]
  },
  {
   "cell_type": "code",
   "execution_count": 1,
   "metadata": {},
   "outputs": [
    {
     "name": "stdout",
     "output_type": "stream",
     "text": [
      "Enter an existing .db file: C:\\Users\\donte\\Desktop\\AIAP Test\\data\\New folder\\home_sales\n",
      "Success\n"
     ]
    }
   ],
   "source": [
    "import sqlite3\n",
    "import os.path\n",
    "import csv\n",
    "from os import path\n",
    "\n",
    "#only works if this python file is in the same directory as the .db file\n",
    "tables = []\n",
    "index = 0\n",
    "\n",
    "database = input(\"Enter an existing .db file: \") # user input a db file\n",
    "if(path.exists(str(database)+\".db\")):\n",
    "\tconn = sqlite3.connect(str(database)+\".db\") # connects to the database\n",
    "\tc = conn.cursor() \n",
    "\tc.execute('SELECT name from sqlite_master where type = \"table\"')\n",
    "\ttableName = c.fetchall() # grabs all table names\n",
    "\tfor name in tableName:\n",
    "\t\ttables.append(name[0])\n",
    "\twhile(index != len(tableName)):\n",
    "\t\tattributes = []\n",
    "\t\tc.execute(\"SELECT * FROM \" + str(tables[index]) + \";\")\n",
    "\t\trows = c.fetchall() # grabs all of the tuples\n",
    "\t\tcolumns = c.description # grabs all of the attributes\n",
    "\t\tfor j in range(len(columns)): # gets the attribute names\n",
    "\t\t\tattributes.append(str(columns[j][0])) # this is how to get all of the attributes\n",
    "\n",
    "\t\twith open(str(tables[index])+\".csv\",\"w\",newline = \"\", encoding = 'utf-8') as attrFile: # encoding utf-8 used for special characters\n",
    "\t\t\tattrWrite = csv.writer(attrFile, delimiter = ',')\n",
    "\t\t\tattrWrite.writerows([attributes])\n",
    "\t\tattrFile.close()\n",
    "\t\tfor row in rows: #this is how to get the tuple values\n",
    "\t\t\tvalues = []\n",
    "\t\t\tfor i in range(len(row)):\n",
    "\t\t\t\t# print(str(row[i]))\n",
    "\t\t\t\tvalues.append(str(row[i])) # each tuple value is appended \n",
    "\n",
    "\t\t\twith open(str(tables[index])+'.csv',\"a\",newline = \"\", encoding = 'utf=8') as valFile: # encoding utf-8 used for special characters\n",
    "\t\t\t\tvalWrite = csv.writer(valFile, delimiter = ',')\n",
    "\t\t\t\tvalWrite.writerows([values]) # values must be inserted into a list\n",
    "\t\t\tvalFile.close()\n",
    "\t\tindex += 1\n",
    "\tc.close()\n",
    "\tconn.close()\n",
    "\tprint(\"Success\")\n",
    "else:\n",
    "\tprint(\"This file does not exist in the current directory\") # when the db file does not exist"
   ]
  },
  {
   "cell_type": "code",
   "execution_count": null,
   "metadata": {},
   "outputs": [],
   "source": []
  },
  {
   "cell_type": "markdown",
   "metadata": {},
   "source": [
    "### EDA Approach:\n",
    "\n",
    "#### (1) Overview Checking on Data Structure & Visusal Inspection both on excel and python (i.e. identify missing NaN, format \n",
    "#### varied, upper lower case on letter etc) & understanding the business case thus the relevant features\n",
    "#### (2) Review each features, whether Transformation needed (i.e. data type change, encoding on categrical features etc)\n",
    "#### (3) Review Statistics & carry Feature Engineering (i.e. Scaling, Treating Outliers etc)\n",
    "#### (4) Save a copy of the finalised EDA for feeder Pipeline for Module1-Regression Models & Module2-Classification Models"
   ]
  },
  {
   "cell_type": "markdown",
   "metadata": {},
   "source": [
    "# (1) Overview Checking on Data Structure & Visusal Inspection"
   ]
  },
  {
   "cell_type": "code",
   "execution_count": 2,
   "metadata": {},
   "outputs": [
    {
     "name": "stderr",
     "output_type": "stream",
     "text": [
      "C:\\Users\\donte\\Anaconda3\\lib\\site-packages\\statsmodels\\tools\\_testing.py:19: FutureWarning: pandas.util.testing is deprecated. Use the functions in the public API at pandas.testing instead.\n",
      "  import pandas.util.testing as tm\n"
     ]
    }
   ],
   "source": [
    "# Import necessary Libraries\n",
    "import pandas as pd\n",
    "import numpy as np\n",
    "import matplotlib.pyplot as plt\n",
    "import seaborn as sns\n",
    "\n",
    "from matplotlib import pyplot as plt\n",
    "%matplotlib inline"
   ]
  },
  {
   "cell_type": "code",
   "execution_count": 3,
   "metadata": {},
   "outputs": [
    {
     "data": {
      "text/html": [
       "<div>\n",
       "<style scoped>\n",
       "    .dataframe tbody tr th:only-of-type {\n",
       "        vertical-align: middle;\n",
       "    }\n",
       "\n",
       "    .dataframe tbody tr th {\n",
       "        vertical-align: top;\n",
       "    }\n",
       "\n",
       "    .dataframe thead th {\n",
       "        text-align: right;\n",
       "    }\n",
       "</style>\n",
       "<table border=\"1\" class=\"dataframe\">\n",
       "  <thead>\n",
       "    <tr style=\"text-align: right;\">\n",
       "      <th></th>\n",
       "      <th>id</th>\n",
       "      <th>date</th>\n",
       "      <th>price</th>\n",
       "      <th>bedrooms</th>\n",
       "      <th>bathrooms</th>\n",
       "      <th>floors</th>\n",
       "      <th>waterfront</th>\n",
       "      <th>view</th>\n",
       "      <th>condition</th>\n",
       "      <th>review_score</th>\n",
       "      <th>basement_size</th>\n",
       "      <th>built</th>\n",
       "      <th>renovation</th>\n",
       "      <th>zipcode</th>\n",
       "      <th>latitude</th>\n",
       "      <th>longitude</th>\n",
       "      <th>living_room_size</th>\n",
       "      <th>lot_size</th>\n",
       "    </tr>\n",
       "  </thead>\n",
       "  <tbody>\n",
       "    <tr>\n",
       "      <th>0</th>\n",
       "      <td>7787980</td>\n",
       "      <td>13/10/2014</td>\n",
       "      <td>221900</td>\n",
       "      <td>3</td>\n",
       "      <td>1</td>\n",
       "      <td>1</td>\n",
       "      <td>0</td>\n",
       "      <td>0</td>\n",
       "      <td>fair</td>\n",
       "      <td>10</td>\n",
       "      <td>0</td>\n",
       "      <td>1955</td>\n",
       "      <td>0</td>\n",
       "      <td>98178</td>\n",
       "      <td>47.5112</td>\n",
       "      <td>-122.257</td>\n",
       "      <td>1340</td>\n",
       "      <td>5650</td>\n",
       "    </tr>\n",
       "    <tr>\n",
       "      <th>1</th>\n",
       "      <td>6774848</td>\n",
       "      <td>12/9/2014</td>\n",
       "      <td>538000</td>\n",
       "      <td>3</td>\n",
       "      <td>2.25</td>\n",
       "      <td>2</td>\n",
       "      <td>0</td>\n",
       "      <td>0</td>\n",
       "      <td>fair</td>\n",
       "      <td>7</td>\n",
       "      <td>400</td>\n",
       "      <td>1951</td>\n",
       "      <td>1991</td>\n",
       "      <td>98125</td>\n",
       "      <td>47.721</td>\n",
       "      <td>-122.319</td>\n",
       "      <td>1690</td>\n",
       "      <td>7639</td>\n",
       "    </tr>\n",
       "    <tr>\n",
       "      <th>2</th>\n",
       "      <td>6999329</td>\n",
       "      <td>25/2/2015</td>\n",
       "      <td>180000</td>\n",
       "      <td>2</td>\n",
       "      <td>1</td>\n",
       "      <td>1</td>\n",
       "      <td>0</td>\n",
       "      <td>0</td>\n",
       "      <td>fair</td>\n",
       "      <td>8</td>\n",
       "      <td>0</td>\n",
       "      <td>1933</td>\n",
       "      <td>0</td>\n",
       "      <td>98028</td>\n",
       "      <td>47.7379</td>\n",
       "      <td>-122.233</td>\n",
       "      <td>2720</td>\n",
       "      <td>8062</td>\n",
       "    </tr>\n",
       "    <tr>\n",
       "      <th>3</th>\n",
       "      <td>7773052</td>\n",
       "      <td>12/9/2014</td>\n",
       "      <td>604000</td>\n",
       "      <td>4</td>\n",
       "      <td>3</td>\n",
       "      <td>1</td>\n",
       "      <td>0</td>\n",
       "      <td>0</td>\n",
       "      <td>excellent</td>\n",
       "      <td>6</td>\n",
       "      <td>910</td>\n",
       "      <td>1965</td>\n",
       "      <td>0</td>\n",
       "      <td>98136</td>\n",
       "      <td>47.5208</td>\n",
       "      <td>-122.393</td>\n",
       "      <td>1360</td>\n",
       "      <td>5000</td>\n",
       "    </tr>\n",
       "    <tr>\n",
       "      <th>4</th>\n",
       "      <td>7760818</td>\n",
       "      <td>18/2/2015</td>\n",
       "      <td>510000</td>\n",
       "      <td>3</td>\n",
       "      <td>2</td>\n",
       "      <td>1</td>\n",
       "      <td>0</td>\n",
       "      <td>0</td>\n",
       "      <td>fair</td>\n",
       "      <td>6</td>\n",
       "      <td>0</td>\n",
       "      <td>1987</td>\n",
       "      <td>0</td>\n",
       "      <td>98074</td>\n",
       "      <td>47.6168</td>\n",
       "      <td>-122.045</td>\n",
       "      <td>1800</td>\n",
       "      <td>7503</td>\n",
       "    </tr>\n",
       "    <tr>\n",
       "      <th>5</th>\n",
       "      <td>7659918</td>\n",
       "      <td>5/12/2014</td>\n",
       "      <td>1225000</td>\n",
       "      <td>4</td>\n",
       "      <td>4.5</td>\n",
       "      <td>1</td>\n",
       "      <td>0</td>\n",
       "      <td>0</td>\n",
       "      <td>fair</td>\n",
       "      <td>8</td>\n",
       "      <td>1530</td>\n",
       "      <td>2001</td>\n",
       "      <td>0</td>\n",
       "      <td>98053</td>\n",
       "      <td>47.6561</td>\n",
       "      <td>-122.005</td>\n",
       "      <td>4760</td>\n",
       "      <td>101930</td>\n",
       "    </tr>\n",
       "    <tr>\n",
       "      <th>6</th>\n",
       "      <td>8057033</td>\n",
       "      <td>27/6/2014</td>\n",
       "      <td>257500</td>\n",
       "      <td>3</td>\n",
       "      <td>2.25</td>\n",
       "      <td>2</td>\n",
       "      <td>0</td>\n",
       "      <td>0</td>\n",
       "      <td>FAIR</td>\n",
       "      <td>7</td>\n",
       "      <td>0</td>\n",
       "      <td>1995</td>\n",
       "      <td>0</td>\n",
       "      <td>98003</td>\n",
       "      <td>47.3097</td>\n",
       "      <td>-122.327</td>\n",
       "      <td>2238</td>\n",
       "      <td>6819</td>\n",
       "    </tr>\n",
       "    <tr>\n",
       "      <th>7</th>\n",
       "      <td>7249853</td>\n",
       "      <td>15/1/2015</td>\n",
       "      <td>291850</td>\n",
       "      <td>3</td>\n",
       "      <td>1.5</td>\n",
       "      <td>1</td>\n",
       "      <td>0</td>\n",
       "      <td>0</td>\n",
       "      <td>fair</td>\n",
       "      <td>7</td>\n",
       "      <td>0</td>\n",
       "      <td>1963</td>\n",
       "      <td>0</td>\n",
       "      <td>98198</td>\n",
       "      <td>47.4095</td>\n",
       "      <td>-122.315</td>\n",
       "      <td>1650</td>\n",
       "      <td>9711</td>\n",
       "    </tr>\n",
       "    <tr>\n",
       "      <th>8</th>\n",
       "      <td>7906980</td>\n",
       "      <td>15/4/2015</td>\n",
       "      <td>229500</td>\n",
       "      <td>3</td>\n",
       "      <td>1</td>\n",
       "      <td>1</td>\n",
       "      <td>0</td>\n",
       "      <td>0</td>\n",
       "      <td>FAIR</td>\n",
       "      <td>7</td>\n",
       "      <td>730</td>\n",
       "      <td>1960</td>\n",
       "      <td>0</td>\n",
       "      <td>98146</td>\n",
       "      <td>47.5123</td>\n",
       "      <td>-122.337</td>\n",
       "      <td>1780</td>\n",
       "      <td>8113</td>\n",
       "    </tr>\n",
       "    <tr>\n",
       "      <th>9</th>\n",
       "      <td>7605289</td>\n",
       "      <td>3/12/2015</td>\n",
       "      <td>323000</td>\n",
       "      <td>3</td>\n",
       "      <td>2.5</td>\n",
       "      <td>2</td>\n",
       "      <td>0</td>\n",
       "      <td>0</td>\n",
       "      <td>fair</td>\n",
       "      <td>7</td>\n",
       "      <td>0</td>\n",
       "      <td>2003</td>\n",
       "      <td>0</td>\n",
       "      <td>98038</td>\n",
       "      <td>47.3684</td>\n",
       "      <td>-122.031</td>\n",
       "      <td>2390</td>\n",
       "      <td>7570</td>\n",
       "    </tr>\n",
       "    <tr>\n",
       "      <th>10</th>\n",
       "      <td>7934973</td>\n",
       "      <td>4/3/2015</td>\n",
       "      <td>662500</td>\n",
       "      <td>3</td>\n",
       "      <td>2.5</td>\n",
       "      <td>1</td>\n",
       "      <td>0</td>\n",
       "      <td>0</td>\n",
       "      <td>fair</td>\n",
       "      <td>7</td>\n",
       "      <td>1700</td>\n",
       "      <td>1965</td>\n",
       "      <td>0</td>\n",
       "      <td>98007</td>\n",
       "      <td>47.6007</td>\n",
       "      <td>-122.145</td>\n",
       "      <td>2210</td>\n",
       "      <td>8925</td>\n",
       "    </tr>\n",
       "    <tr>\n",
       "      <th>11</th>\n",
       "      <td>6867014</td>\n",
       "      <td>27/5/2014</td>\n",
       "      <td>468000</td>\n",
       "      <td>2</td>\n",
       "      <td>1</td>\n",
       "      <td>1</td>\n",
       "      <td>0</td>\n",
       "      <td>0</td>\n",
       "      <td>good</td>\n",
       "      <td>6</td>\n",
       "      <td>300</td>\n",
       "      <td>1942</td>\n",
       "      <td>0</td>\n",
       "      <td>98115</td>\n",
       "      <td>47.69</td>\n",
       "      <td>-122.292</td>\n",
       "      <td>1330</td>\n",
       "      <td>6000</td>\n",
       "    </tr>\n",
       "    <tr>\n",
       "      <th>12</th>\n",
       "      <td>None</td>\n",
       "      <td>28/5/2014</td>\n",
       "      <td>None</td>\n",
       "      <td>3</td>\n",
       "      <td>None</td>\n",
       "      <td>1.5</td>\n",
       "      <td>0</td>\n",
       "      <td>None</td>\n",
       "      <td>good</td>\n",
       "      <td>5</td>\n",
       "      <td>None</td>\n",
       "      <td>1927</td>\n",
       "      <td>0</td>\n",
       "      <td>None</td>\n",
       "      <td>None</td>\n",
       "      <td>None</td>\n",
       "      <td>None</td>\n",
       "      <td>12697</td>\n",
       "    </tr>\n",
       "    <tr>\n",
       "      <th>13</th>\n",
       "      <td>7158525</td>\n",
       "      <td>10/7/2014</td>\n",
       "      <td>400000</td>\n",
       "      <td>3</td>\n",
       "      <td>1.75</td>\n",
       "      <td>1</td>\n",
       "      <td>0</td>\n",
       "      <td>0</td>\n",
       "      <td>good</td>\n",
       "      <td>7</td>\n",
       "      <td>0</td>\n",
       "      <td>1977</td>\n",
       "      <td>0</td>\n",
       "      <td>98074</td>\n",
       "      <td>47.6127</td>\n",
       "      <td>-122.045</td>\n",
       "      <td>1370</td>\n",
       "      <td>10208</td>\n",
       "    </tr>\n",
       "    <tr>\n",
       "      <th>14</th>\n",
       "      <td>7728368</td>\n",
       "      <td>3/12/2015</td>\n",
       "      <td>530000</td>\n",
       "      <td>5</td>\n",
       "      <td>2</td>\n",
       "      <td>1.5</td>\n",
       "      <td>0</td>\n",
       "      <td>0</td>\n",
       "      <td>fair</td>\n",
       "      <td>9</td>\n",
       "      <td>0</td>\n",
       "      <td>1900</td>\n",
       "      <td>0</td>\n",
       "      <td>98107</td>\n",
       "      <td>47.67</td>\n",
       "      <td>-122.394</td>\n",
       "      <td>1360</td>\n",
       "      <td>4850</td>\n",
       "    </tr>\n",
       "  </tbody>\n",
       "</table>\n",
       "</div>"
      ],
      "text/plain": [
       "         id        date    price bedrooms bathrooms floors waterfront  view  \\\n",
       "0   7787980  13/10/2014   221900        3         1      1          0     0   \n",
       "1   6774848   12/9/2014   538000        3      2.25      2          0     0   \n",
       "2   6999329   25/2/2015   180000        2         1      1          0     0   \n",
       "3   7773052   12/9/2014   604000        4         3      1          0     0   \n",
       "4   7760818   18/2/2015   510000        3         2      1          0     0   \n",
       "5   7659918   5/12/2014  1225000        4       4.5      1          0     0   \n",
       "6   8057033   27/6/2014   257500        3      2.25      2          0     0   \n",
       "7   7249853   15/1/2015   291850        3       1.5      1          0     0   \n",
       "8   7906980   15/4/2015   229500        3         1      1          0     0   \n",
       "9   7605289   3/12/2015   323000        3       2.5      2          0     0   \n",
       "10  7934973    4/3/2015   662500        3       2.5      1          0     0   \n",
       "11  6867014   27/5/2014   468000        2         1      1          0     0   \n",
       "12     None   28/5/2014     None        3      None    1.5          0  None   \n",
       "13  7158525   10/7/2014   400000        3      1.75      1          0     0   \n",
       "14  7728368   3/12/2015   530000        5         2    1.5          0     0   \n",
       "\n",
       "    condition review_score basement_size built renovation zipcode latitude  \\\n",
       "0        fair           10             0  1955          0   98178  47.5112   \n",
       "1        fair            7           400  1951       1991   98125   47.721   \n",
       "2        fair            8             0  1933          0   98028  47.7379   \n",
       "3   excellent            6           910  1965          0   98136  47.5208   \n",
       "4        fair            6             0  1987          0   98074  47.6168   \n",
       "5        fair            8          1530  2001          0   98053  47.6561   \n",
       "6        FAIR            7             0  1995          0   98003  47.3097   \n",
       "7        fair            7             0  1963          0   98198  47.4095   \n",
       "8        FAIR            7           730  1960          0   98146  47.5123   \n",
       "9        fair            7             0  2003          0   98038  47.3684   \n",
       "10       fair            7          1700  1965          0   98007  47.6007   \n",
       "11       good            6           300  1942          0   98115    47.69   \n",
       "12       good            5          None  1927          0    None     None   \n",
       "13       good            7             0  1977          0   98074  47.6127   \n",
       "14       fair            9             0  1900          0   98107    47.67   \n",
       "\n",
       "   longitude living_room_size lot_size  \n",
       "0   -122.257             1340     5650  \n",
       "1   -122.319             1690     7639  \n",
       "2   -122.233             2720     8062  \n",
       "3   -122.393             1360     5000  \n",
       "4   -122.045             1800     7503  \n",
       "5   -122.005             4760   101930  \n",
       "6   -122.327             2238     6819  \n",
       "7   -122.315             1650     9711  \n",
       "8   -122.337             1780     8113  \n",
       "9   -122.031             2390     7570  \n",
       "10  -122.145             2210     8925  \n",
       "11  -122.292             1330     6000  \n",
       "12      None             None    12697  \n",
       "13  -122.045             1370    10208  \n",
       "14  -122.394             1360     4850  "
      ]
     },
     "execution_count": 3,
     "metadata": {},
     "output_type": "execute_result"
    }
   ],
   "source": [
    "# Load Dataset\n",
    "url=\"C:\\\\Users\\\\donte\\\\Desktop\\\\AIAP Test\\\\data\\\\home_sales-formetdate.csv\"\n",
    "df = pd.read_csv(url)\n",
    "df.head(15) \n"
   ]
  },
  {
   "cell_type": "code",
   "execution_count": 4,
   "metadata": {},
   "outputs": [],
   "source": [
    "## visual inspection with Excel (Filter check): rows with \"None\", 3 cols \"renovation\", \"waterfront\", \"view\" had many '0's, \n",
    "## => col \"date\" diff format (2104 & 2015 data), \"price\" wide range $75k to $7.7m, \"bedroom\" 0 to 11, \"bathroom\" 0 to 8,\n",
    "## => \"floor\" 1 to 3.5, \"condition\" 5 level intermix Uppercase & Lowercase, \"review\" 1 to 13, \"basement\" 0 to 4820\n",
    "## => \"built\" 1900 to 2015, \"zipcode\" 98001 to 98199, \"latitude\" 47.1559 to 47.7776, \"longtitude\" -122.519 to -121.315,\n",
    "## => \"living room\" 399 to 6310, \"lot size\" 651 to 871200\n",
    "##### will expound further with python after 1st cut visual inspect, \n",
    "##### those can instant fix like date format has been corrected before loading to python\n",
    "##### EDA done with Excel (5%), Python (95%)"
   ]
  },
  {
   "cell_type": "code",
   "execution_count": 5,
   "metadata": {},
   "outputs": [
    {
     "data": {
      "text/plain": [
       "(23154, 18)"
      ]
     },
     "execution_count": 5,
     "metadata": {},
     "output_type": "execute_result"
    }
   ],
   "source": [
    "# check rows & cols\n",
    "df.shape \n",
    "## show 23154 rows/records, 18 features (Y-TGT is \"Price\", the rest 17 is Independent Features)"
   ]
  },
  {
   "cell_type": "code",
   "execution_count": 6,
   "metadata": {},
   "outputs": [
    {
     "data": {
      "text/plain": [
       "id                  object\n",
       "date                object\n",
       "price               object\n",
       "bedrooms            object\n",
       "bathrooms           object\n",
       "floors              object\n",
       "waterfront          object\n",
       "view                object\n",
       "condition           object\n",
       "review_score        object\n",
       "basement_size       object\n",
       "built               object\n",
       "renovation          object\n",
       "zipcode             object\n",
       "latitude            object\n",
       "longitude           object\n",
       "living_room_size    object\n",
       "lot_size            object\n",
       "dtype: object"
      ]
     },
     "execution_count": 6,
     "metadata": {},
     "output_type": "execute_result"
    }
   ],
   "source": [
    "df.dtypes\n",
    "## => need convert object type to numeric for processing statisitcs, arithmetic etc (Numeric Variables), \n",
    "## => for Categorical Valuables need encoding"
   ]
  },
  {
   "cell_type": "code",
   "execution_count": 7,
   "metadata": {},
   "outputs": [
    {
     "data": {
      "text/plain": [
       "id                  0\n",
       "date                0\n",
       "price               0\n",
       "bedrooms            0\n",
       "bathrooms           0\n",
       "floors              0\n",
       "waterfront          0\n",
       "view                0\n",
       "condition           0\n",
       "review_score        0\n",
       "basement_size       0\n",
       "built               0\n",
       "renovation          0\n",
       "zipcode             0\n",
       "latitude            0\n",
       "longitude           0\n",
       "living_room_size    0\n",
       "lot_size            0\n",
       "dtype: int64"
      ]
     },
     "execution_count": 7,
     "metadata": {},
     "output_type": "execute_result"
    }
   ],
   "source": [
    "# check missing values\n",
    "df.isnull().sum()\n",
    "## there are no missing values (but need fix the many rows of \"None\")"
   ]
  },
  {
   "cell_type": "code",
   "execution_count": 8,
   "metadata": {},
   "outputs": [
    {
     "data": {
      "text/plain": [
       "(19688, 18)"
      ]
     },
     "execution_count": 8,
     "metadata": {},
     "output_type": "execute_result"
    }
   ],
   "source": [
    "# Drop the rows with \"None\" Object-String type, can't just dropna(); rtn drop result back to df\n",
    "df=df.mask(df.eq('None')).dropna()\n",
    "## => 19688 rows left, 3466 rows with 'None' dropped\n",
    "df.shape"
   ]
  },
  {
   "cell_type": "code",
   "execution_count": 9,
   "metadata": {},
   "outputs": [
    {
     "data": {
      "text/plain": [
       "0       18834\n",
       "2014       82\n",
       "2005       34\n",
       "2013       33\n",
       "2007       32\n",
       "        ...  \n",
       "1948        1\n",
       "1944        1\n",
       "1950        1\n",
       "1967        1\n",
       "1959        1\n",
       "Name: renovation, Length: 70, dtype: int64"
      ]
     },
     "execution_count": 9,
     "metadata": {},
     "output_type": "execute_result"
    }
   ],
   "source": [
    "# 3 cols \"renovation\", \"waterfront\", \"view\" had many '0's, -> Drop Columns as will not be able to use this data for analysis\n",
    "# Id of houses is also not useful\n",
    "\n",
    "## validate findings \"renovation\" \n",
    "df['renovation'].value_counts()\n",
    "## => 18834 \"0\"s, drop col \"renovation\""
   ]
  },
  {
   "cell_type": "markdown",
   "metadata": {},
   "source": [
    "# (2) Review each features, whether Transformation needed"
   ]
  },
  {
   "cell_type": "code",
   "execution_count": 10,
   "metadata": {},
   "outputs": [
    {
     "data": {
      "text/plain": [
       "array(['0', '1991', '2002', '2010', '1999', '1992', '2013', '1994',\n",
       "       '2005', '2008', '2003', '1984', '1954', '2014', '2011', '1974',\n",
       "       '1945', '1990', '1988', '1957', '1977', '1981', '1995', '2000',\n",
       "       '1998', '1970', '1989', '2004', '1986', '2009', '2007', '1987',\n",
       "       '1973', '2006', '1985', '2001', '1980', '1971', '1979', '1997',\n",
       "       '1969', '1948', '1983', '2015', '1978', '1968', '2012', '1963',\n",
       "       '1951', '1993', '1962', '1996', '1972', '1953', '1955', '1950',\n",
       "       '1982', '1940', '1976', '1946', '1975', '1958', '1964', '1959',\n",
       "       '1960', '1956', '1967', '1965', '1934', '1944'], dtype=object)"
      ]
     },
     "execution_count": 10,
     "metadata": {},
     "output_type": "execute_result"
    }
   ],
   "source": [
    "# check Unique Categories (as part of inpection for each of the 18 variables)\n",
    "df.renovation.unique()"
   ]
  },
  {
   "cell_type": "code",
   "execution_count": 11,
   "metadata": {},
   "outputs": [
    {
     "data": {
      "text/plain": [
       "0    19527\n",
       "1      161\n",
       "Name: waterfront, dtype: int64"
      ]
     },
     "execution_count": 11,
     "metadata": {},
     "output_type": "execute_result"
    }
   ],
   "source": [
    "## validate findings \"waterfront\" \n",
    "df['waterfront'].value_counts()\n",
    "## => 19527 \"0\"s, drop col \"waterfront\"; imbalanced dataset issue"
   ]
  },
  {
   "cell_type": "code",
   "execution_count": 12,
   "metadata": {},
   "outputs": [
    {
     "data": {
      "text/plain": [
       "array(['0', '1'], dtype=object)"
      ]
     },
     "execution_count": 12,
     "metadata": {},
     "output_type": "execute_result"
    }
   ],
   "source": [
    "# check Unique Categories (as part of inpection for each of the 18 variables)\n",
    "df.waterfront.unique()"
   ]
  },
  {
   "cell_type": "code",
   "execution_count": 13,
   "metadata": {},
   "outputs": [
    {
     "data": {
      "text/plain": [
       "0    17747\n",
       "2      869\n",
       "3      470\n",
       "1      306\n",
       "4      296\n",
       "Name: view, dtype: int64"
      ]
     },
     "execution_count": 13,
     "metadata": {},
     "output_type": "execute_result"
    }
   ],
   "source": [
    "## validate findings \"view\" \n",
    "df['view'].value_counts()\n",
    "## 17747 \"0\"s, drop col \"view\""
   ]
  },
  {
   "cell_type": "code",
   "execution_count": 14,
   "metadata": {},
   "outputs": [
    {
     "data": {
      "text/plain": [
       "array(['0', '3', '2', '4', '1'], dtype=object)"
      ]
     },
     "execution_count": 14,
     "metadata": {},
     "output_type": "execute_result"
    }
   ],
   "source": [
    "# check Unique Categories bef drop (as part of inpection for each of the 18 variables)\n",
    "df.view.unique()"
   ]
  },
  {
   "cell_type": "code",
   "execution_count": 15,
   "metadata": {},
   "outputs": [],
   "source": [
    "# Proceed drop 4 cols \"id\", \"renovation\", \"waterfront\", \"view\"\n",
    "df = df[['date', 'price', 'bedrooms', 'bathrooms', 'floors', 'condition', 'review_score', 'basement_size', 'built',\n",
    "       'zipcode', 'latitude', 'longitude', 'living_room_size',\n",
    "       'lot_size']]"
   ]
  },
  {
   "cell_type": "code",
   "execution_count": 16,
   "metadata": {},
   "outputs": [
    {
     "data": {
      "text/html": [
       "<div>\n",
       "<style scoped>\n",
       "    .dataframe tbody tr th:only-of-type {\n",
       "        vertical-align: middle;\n",
       "    }\n",
       "\n",
       "    .dataframe tbody tr th {\n",
       "        vertical-align: top;\n",
       "    }\n",
       "\n",
       "    .dataframe thead th {\n",
       "        text-align: right;\n",
       "    }\n",
       "</style>\n",
       "<table border=\"1\" class=\"dataframe\">\n",
       "  <thead>\n",
       "    <tr style=\"text-align: right;\">\n",
       "      <th></th>\n",
       "      <th>date</th>\n",
       "      <th>price</th>\n",
       "      <th>bedrooms</th>\n",
       "      <th>bathrooms</th>\n",
       "      <th>floors</th>\n",
       "      <th>condition</th>\n",
       "      <th>review_score</th>\n",
       "      <th>basement_size</th>\n",
       "      <th>built</th>\n",
       "      <th>zipcode</th>\n",
       "      <th>latitude</th>\n",
       "      <th>longitude</th>\n",
       "      <th>living_room_size</th>\n",
       "      <th>lot_size</th>\n",
       "    </tr>\n",
       "  </thead>\n",
       "  <tbody>\n",
       "    <tr>\n",
       "      <th>0</th>\n",
       "      <td>13/10/2014</td>\n",
       "      <td>221900</td>\n",
       "      <td>3</td>\n",
       "      <td>1</td>\n",
       "      <td>1</td>\n",
       "      <td>fair</td>\n",
       "      <td>10</td>\n",
       "      <td>0</td>\n",
       "      <td>1955</td>\n",
       "      <td>98178</td>\n",
       "      <td>47.5112</td>\n",
       "      <td>-122.257</td>\n",
       "      <td>1340</td>\n",
       "      <td>5650</td>\n",
       "    </tr>\n",
       "    <tr>\n",
       "      <th>1</th>\n",
       "      <td>12/9/2014</td>\n",
       "      <td>538000</td>\n",
       "      <td>3</td>\n",
       "      <td>2.25</td>\n",
       "      <td>2</td>\n",
       "      <td>fair</td>\n",
       "      <td>7</td>\n",
       "      <td>400</td>\n",
       "      <td>1951</td>\n",
       "      <td>98125</td>\n",
       "      <td>47.721</td>\n",
       "      <td>-122.319</td>\n",
       "      <td>1690</td>\n",
       "      <td>7639</td>\n",
       "    </tr>\n",
       "    <tr>\n",
       "      <th>2</th>\n",
       "      <td>25/2/2015</td>\n",
       "      <td>180000</td>\n",
       "      <td>2</td>\n",
       "      <td>1</td>\n",
       "      <td>1</td>\n",
       "      <td>fair</td>\n",
       "      <td>8</td>\n",
       "      <td>0</td>\n",
       "      <td>1933</td>\n",
       "      <td>98028</td>\n",
       "      <td>47.7379</td>\n",
       "      <td>-122.233</td>\n",
       "      <td>2720</td>\n",
       "      <td>8062</td>\n",
       "    </tr>\n",
       "    <tr>\n",
       "      <th>3</th>\n",
       "      <td>12/9/2014</td>\n",
       "      <td>604000</td>\n",
       "      <td>4</td>\n",
       "      <td>3</td>\n",
       "      <td>1</td>\n",
       "      <td>excellent</td>\n",
       "      <td>6</td>\n",
       "      <td>910</td>\n",
       "      <td>1965</td>\n",
       "      <td>98136</td>\n",
       "      <td>47.5208</td>\n",
       "      <td>-122.393</td>\n",
       "      <td>1360</td>\n",
       "      <td>5000</td>\n",
       "    </tr>\n",
       "    <tr>\n",
       "      <th>4</th>\n",
       "      <td>18/2/2015</td>\n",
       "      <td>510000</td>\n",
       "      <td>3</td>\n",
       "      <td>2</td>\n",
       "      <td>1</td>\n",
       "      <td>fair</td>\n",
       "      <td>6</td>\n",
       "      <td>0</td>\n",
       "      <td>1987</td>\n",
       "      <td>98074</td>\n",
       "      <td>47.6168</td>\n",
       "      <td>-122.045</td>\n",
       "      <td>1800</td>\n",
       "      <td>7503</td>\n",
       "    </tr>\n",
       "  </tbody>\n",
       "</table>\n",
       "</div>"
      ],
      "text/plain": [
       "         date   price bedrooms bathrooms floors  condition review_score  \\\n",
       "0  13/10/2014  221900        3         1      1       fair           10   \n",
       "1   12/9/2014  538000        3      2.25      2       fair            7   \n",
       "2   25/2/2015  180000        2         1      1       fair            8   \n",
       "3   12/9/2014  604000        4         3      1  excellent            6   \n",
       "4   18/2/2015  510000        3         2      1       fair            6   \n",
       "\n",
       "  basement_size built zipcode latitude longitude living_room_size lot_size  \n",
       "0             0  1955   98178  47.5112  -122.257             1340     5650  \n",
       "1           400  1951   98125   47.721  -122.319             1690     7639  \n",
       "2             0  1933   98028  47.7379  -122.233             2720     8062  \n",
       "3           910  1965   98136  47.5208  -122.393             1360     5000  \n",
       "4             0  1987   98074  47.6168  -122.045             1800     7503  "
      ]
     },
     "execution_count": 16,
     "metadata": {},
     "output_type": "execute_result"
    }
   ],
   "source": [
    "# check cols dropped correctly\n",
    "df.head()\n",
    "## => cols \"id\", \"renovation\", \"waterfront\", \"view\" has been dropped"
   ]
  },
  {
   "cell_type": "code",
   "execution_count": 17,
   "metadata": {},
   "outputs": [
    {
     "data": {
      "text/plain": [
       "(19688, 14)"
      ]
     },
     "execution_count": 17,
     "metadata": {},
     "output_type": "execute_result"
    }
   ],
   "source": [
    "# check cols dropped\n",
    "df.shape\n",
    "## => 18-4 cols dropped is 14"
   ]
  },
  {
   "cell_type": "code",
   "execution_count": 18,
   "metadata": {},
   "outputs": [
    {
     "data": {
      "text/plain": [
       "array(['13/10/2014', '12/9/2014', '25/2/2015', '18/2/2015', '5/12/2014',\n",
       "       '27/6/2014', '15/1/2015', '15/4/2015', '3/12/2015', '4/3/2015',\n",
       "       '27/5/2014', '10/7/2014', '24/1/2015', '31/7/2014', '29/5/2014',\n",
       "       '12/5/2014', '24/4/2015', '14/5/2014', '7/3/2014', '16/5/2014',\n",
       "       '20/11/2014', '11/3/2014', '26/6/2014', '12/1/2014', '24/6/2014',\n",
       "       '3/2/2015', '11/10/2014', '12/3/2014', '13/6/2014', '28/5/2014',\n",
       "       '30/12/2014', '13/2/2015', '20/6/2014', '8/11/2014', '28/10/2014',\n",
       "       '29/7/2014', '18/7/2014', '25/3/2015', '28/4/2015', '3/11/2015',\n",
       "       '16/9/2014', '17/2/2015', '31/12/2014', '2/5/2015', '3/3/2015',\n",
       "       '19/8/2014', '4/7/2015', '27/8/2014', '23/2/2015', '12/10/2014',\n",
       "       '28/8/2014', '6/3/2014', '9/9/2014', '10/9/2014', '25/8/2014',\n",
       "       '9/12/2014', '1/5/2015', '6/10/2014', '7/10/2014', '16/3/2015',\n",
       "       '11/5/2014', '20/4/2015', '6/9/2014', '22/12/2014', '28/1/2015',\n",
       "       '6/2/2014', '14/11/2014', '19/5/2014', '9/4/2014', '25/7/2014',\n",
       "       '9/8/2014', '30/3/2015', '6/11/2014', '12/12/2014', '24/9/2014',\n",
       "       '4/2/2015', '23/5/2014', '23/7/2014', '3/5/2015', '3/4/2015',\n",
       "       '24/11/2014', '21/11/2014', '1/8/2015', '5/11/2015', '1/2/2015',\n",
       "       '19/11/2014', '4/6/2015', '11/4/2014', '18/6/2014', '17/7/2014',\n",
       "       '6/12/2014', '26/1/2015', '13/8/2014', '8/5/2014', '7/7/2014',\n",
       "       '5/7/2014', '7/8/2014', '5/8/2015', '27/2/2015', '25/6/2014',\n",
       "       '8/6/2014', '30/10/2014', '20/8/2014', '4/9/2015', '31/3/2015',\n",
       "       '4/1/2015', '28/7/2014', '8/7/2014', '13/11/2014', '10/3/2014',\n",
       "       '3/9/2015', '8/12/2014', '12/8/2014', '19/2/2015', '24/3/2015',\n",
       "       '6/5/2014', '5/2/2014', '29/9/2014', '2/10/2015', '7/9/2014',\n",
       "       '17/11/2014', '1/7/2015', '14/4/2015', '9/5/2014', '5/5/2014',\n",
       "       '18/4/2015', '18/8/2014', '15/5/2014', '11/11/2014', '13/1/2015',\n",
       "       '11/12/2014', '16/7/2014', '8/4/2014', '19/9/2014', '22/4/2015',\n",
       "       '14/1/2015', '21/2/2015', '23/10/2014', '22/8/2014', '18/9/2014',\n",
       "       '9/3/2014', '6/4/2014', '16/6/2014', '9/2/2014', '20/3/2015',\n",
       "       '7/1/2014', '10/1/2014', '27/1/2015', '27/4/2015', '26/8/2014',\n",
       "       '2/12/2015', '14/3/2015', '23/9/2014', '13/5/2014', '21/4/2015',\n",
       "       '20/10/2014', '2/11/2015', '29/8/2014', '12/2/2014', '24/10/2014',\n",
       "       '27/10/2014', '14/8/2014', '5/4/2015', '5/1/2015', '17/10/2014',\n",
       "       '25/9/2014', '5/5/2015', '13/5/2015', '30/6/2014', '4/10/2015',\n",
       "       '2/9/2015', '7/2/2014', '24/2/2015', '22/10/2014', '10/2/2014',\n",
       "       '28/2/2015', '22/11/2014', '21/7/2014', '2/2/2015', '16/4/2015',\n",
       "       '4/8/2015', '22/7/2014', '11/6/2014', '29/12/2014', '21/10/2014',\n",
       "       '22/9/2014', '10/6/2014', '17/9/2014', '30/1/2015', '26/3/2015',\n",
       "       '23/4/2015', '12/4/2014', '23/12/2014', '20/5/2014', '29/4/2015',\n",
       "       '21/1/2015', '30/4/2015', '23/6/2014', '19/6/2014', '3/6/2015',\n",
       "       '17/4/2015', '9/11/2014', '30/7/2014', '5/6/2014', '5/12/2015',\n",
       "       '21/8/2014', '15/7/2014', '19/3/2015', '5/2/2015', '22/2/2015',\n",
       "       '14/10/2014', '26/11/2014', '15/10/2014', '1/6/2015', '7/11/2014',\n",
       "       '9/1/2014', '16/12/2014', '14/6/2014', '21/5/2014', '5/8/2014',\n",
       "       '29/10/2014', '5/7/2015', '9/6/2014', '10/8/2014', '3/10/2015',\n",
       "       '18/12/2014', '17/12/2014', '12/11/2014', '30/9/2014', '2/6/2015',\n",
       "       '5/6/2015', '8/8/2014', '22/5/2014', '22/6/2014', '15/8/2014',\n",
       "       '18/11/2014', '8/2/2014', '16/10/2014', '7/12/2014', '13/4/2015',\n",
       "       '9/10/2014', '5/9/2014', '15/12/2014', '11/7/2014', '23/1/2015',\n",
       "       '14/7/2014', '26/9/2014', '6/6/2014', '25/11/2014', '10/10/2014',\n",
       "       '13/3/2015', '26/12/2014', '30/5/2014', '19/12/2014', '20/1/2015',\n",
       "       '18/3/2015', '14/5/2015', '1/12/2015', '23/3/2015', '24/7/2014',\n",
       "       '25/4/2015', '17/6/2014', '22/1/2015', '26/2/2015', '17/3/2015',\n",
       "       '15/9/2014', '17/5/2014', '26/4/2015', '20/2/2015', '1/9/2015',\n",
       "       '2/4/2015', '19/4/2015', '16/1/2015', '5/11/2014', '24/5/2014',\n",
       "       '14/2/2015', '8/1/2014', '6/1/2014', '31/10/2014', '27/3/2015',\n",
       "       '21/6/2014', '18/10/2014', '20/12/2014', '2/3/2015', '29/1/2015',\n",
       "       '26/7/2014', '19/7/2014', '28/6/2014', '19/1/2015', '27/3/2016',\n",
       "       '26/5/2014', '5/3/2015', '24/12/2014', '16/8/2014', '27/9/2014',\n",
       "       '7/6/2014', '14/12/2014', '10/5/2014', '4/12/2015', '15/11/2014',\n",
       "       '11/8/2014', '11/1/2014', '25/5/2014', '12/7/2014', '9/7/2014',\n",
       "       '29/3/2015', '19/10/2014', '29/6/2014', '5/4/2014', '4/4/2015',\n",
       "       '16/11/2014', '16/2/2015', '31/5/2014', '10/4/2014', '18/5/2014',\n",
       "       '11/9/2014', '15/3/2015', '4/5/2015', '20/7/2014', '5/10/2014',\n",
       "       '2/7/2015', '6/8/2014', '13/12/2014', '8/9/2014', '21/3/2015',\n",
       "       '15/5/2015', '17/8/2014', '15/6/2014', '7/4/2014', '13/9/2014',\n",
       "       '3/7/2015', '8/10/2014', '12/6/2014', '5/9/2015', '8/3/2014',\n",
       "       '28/9/2014', '4/11/2015', '5/3/2014', '13/7/2014', '7/5/2014',\n",
       "       '25/10/2014', '28/11/2014', '28/3/2015', '20/9/2014', '11/2/2014',\n",
       "       '3/12/2014', '21/9/2014', '28/3/2014', '1/10/2015', '3/1/2015',\n",
       "       '31/8/2014', '25/1/2015', '26/10/2014', '29/11/2014', '6/7/2014',\n",
       "       '24/5/2015', '23/11/2014', '10/12/2014', '23/8/2014', '5/10/2015',\n",
       "       '27/12/2014', '14/9/2014', '3/8/2015', '30/8/2014', '27/5/2015',\n",
       "       '22/3/2015', '15/2/2015', '10/11/2014', '2/1/2015', '30/11/2014',\n",
       "       '24/8/2014', '21/12/2014', '27/7/2014'], dtype=object)"
      ]
     },
     "execution_count": 18,
     "metadata": {},
     "output_type": "execute_result"
    }
   ],
   "source": [
    "# check Unique Categories (as part of inpection for each of the 18 variables)\n",
    "df.date.unique()"
   ]
  },
  {
   "cell_type": "code",
   "execution_count": 19,
   "metadata": {
    "scrolled": true
   },
   "outputs": [
    {
     "data": {
      "text/plain": [
       "23/6/2014     132\n",
       "7/8/2014      120\n",
       "26/6/2014     120\n",
       "25/6/2014     120\n",
       "27/4/2015     118\n",
       "             ... \n",
       "5/10/2015       1\n",
       "30/11/2014      1\n",
       "1/10/2015       1\n",
       "15/5/2015       1\n",
       "12/7/2014       1\n",
       "Name: date, Length: 373, dtype: int64"
      ]
     },
     "execution_count": 19,
     "metadata": {},
     "output_type": "execute_result"
    }
   ],
   "source": [
    "df['date'].value_counts()\n",
    "# interpret in this manner: 132 hse sales on this date 23/6/2014"
   ]
  },
  {
   "cell_type": "code",
   "execution_count": 20,
   "metadata": {},
   "outputs": [
    {
     "data": {
      "text/html": [
       "<div>\n",
       "<style scoped>\n",
       "    .dataframe tbody tr th:only-of-type {\n",
       "        vertical-align: middle;\n",
       "    }\n",
       "\n",
       "    .dataframe tbody tr th {\n",
       "        vertical-align: top;\n",
       "    }\n",
       "\n",
       "    .dataframe thead th {\n",
       "        text-align: right;\n",
       "    }\n",
       "</style>\n",
       "<table border=\"1\" class=\"dataframe\">\n",
       "  <thead>\n",
       "    <tr style=\"text-align: right;\">\n",
       "      <th></th>\n",
       "      <th>date</th>\n",
       "      <th>price</th>\n",
       "      <th>bedrooms</th>\n",
       "      <th>bathrooms</th>\n",
       "      <th>floors</th>\n",
       "      <th>condition</th>\n",
       "      <th>review_score</th>\n",
       "      <th>basement_size</th>\n",
       "      <th>built</th>\n",
       "      <th>zipcode</th>\n",
       "      <th>latitude</th>\n",
       "      <th>longitude</th>\n",
       "      <th>living_room_size</th>\n",
       "      <th>lot_size</th>\n",
       "      <th>date_str</th>\n",
       "      <th>date_yr_sold</th>\n",
       "    </tr>\n",
       "  </thead>\n",
       "  <tbody>\n",
       "    <tr>\n",
       "      <th>0</th>\n",
       "      <td>13/10/2014</td>\n",
       "      <td>221900</td>\n",
       "      <td>3</td>\n",
       "      <td>1</td>\n",
       "      <td>1</td>\n",
       "      <td>fair</td>\n",
       "      <td>10</td>\n",
       "      <td>0</td>\n",
       "      <td>1955</td>\n",
       "      <td>98178</td>\n",
       "      <td>47.5112</td>\n",
       "      <td>-122.257</td>\n",
       "      <td>1340</td>\n",
       "      <td>5650</td>\n",
       "      <td>2014-10-13</td>\n",
       "      <td>2014</td>\n",
       "    </tr>\n",
       "    <tr>\n",
       "      <th>1</th>\n",
       "      <td>12/9/2014</td>\n",
       "      <td>538000</td>\n",
       "      <td>3</td>\n",
       "      <td>2.25</td>\n",
       "      <td>2</td>\n",
       "      <td>fair</td>\n",
       "      <td>7</td>\n",
       "      <td>400</td>\n",
       "      <td>1951</td>\n",
       "      <td>98125</td>\n",
       "      <td>47.721</td>\n",
       "      <td>-122.319</td>\n",
       "      <td>1690</td>\n",
       "      <td>7639</td>\n",
       "      <td>2014-12-09</td>\n",
       "      <td>2014</td>\n",
       "    </tr>\n",
       "    <tr>\n",
       "      <th>2</th>\n",
       "      <td>25/2/2015</td>\n",
       "      <td>180000</td>\n",
       "      <td>2</td>\n",
       "      <td>1</td>\n",
       "      <td>1</td>\n",
       "      <td>fair</td>\n",
       "      <td>8</td>\n",
       "      <td>0</td>\n",
       "      <td>1933</td>\n",
       "      <td>98028</td>\n",
       "      <td>47.7379</td>\n",
       "      <td>-122.233</td>\n",
       "      <td>2720</td>\n",
       "      <td>8062</td>\n",
       "      <td>2015-02-25</td>\n",
       "      <td>2015</td>\n",
       "    </tr>\n",
       "    <tr>\n",
       "      <th>3</th>\n",
       "      <td>12/9/2014</td>\n",
       "      <td>604000</td>\n",
       "      <td>4</td>\n",
       "      <td>3</td>\n",
       "      <td>1</td>\n",
       "      <td>excellent</td>\n",
       "      <td>6</td>\n",
       "      <td>910</td>\n",
       "      <td>1965</td>\n",
       "      <td>98136</td>\n",
       "      <td>47.5208</td>\n",
       "      <td>-122.393</td>\n",
       "      <td>1360</td>\n",
       "      <td>5000</td>\n",
       "      <td>2014-12-09</td>\n",
       "      <td>2014</td>\n",
       "    </tr>\n",
       "    <tr>\n",
       "      <th>4</th>\n",
       "      <td>18/2/2015</td>\n",
       "      <td>510000</td>\n",
       "      <td>3</td>\n",
       "      <td>2</td>\n",
       "      <td>1</td>\n",
       "      <td>fair</td>\n",
       "      <td>6</td>\n",
       "      <td>0</td>\n",
       "      <td>1987</td>\n",
       "      <td>98074</td>\n",
       "      <td>47.6168</td>\n",
       "      <td>-122.045</td>\n",
       "      <td>1800</td>\n",
       "      <td>7503</td>\n",
       "      <td>2015-02-18</td>\n",
       "      <td>2015</td>\n",
       "    </tr>\n",
       "  </tbody>\n",
       "</table>\n",
       "</div>"
      ],
      "text/plain": [
       "         date   price bedrooms bathrooms floors  condition review_score  \\\n",
       "0  13/10/2014  221900        3         1      1       fair           10   \n",
       "1   12/9/2014  538000        3      2.25      2       fair            7   \n",
       "2   25/2/2015  180000        2         1      1       fair            8   \n",
       "3   12/9/2014  604000        4         3      1  excellent            6   \n",
       "4   18/2/2015  510000        3         2      1       fair            6   \n",
       "\n",
       "  basement_size built zipcode latitude longitude living_room_size lot_size  \\\n",
       "0             0  1955   98178  47.5112  -122.257             1340     5650   \n",
       "1           400  1951   98125   47.721  -122.319             1690     7639   \n",
       "2             0  1933   98028  47.7379  -122.233             2720     8062   \n",
       "3           910  1965   98136  47.5208  -122.393             1360     5000   \n",
       "4             0  1987   98074  47.6168  -122.045             1800     7503   \n",
       "\n",
       "    date_str  date_yr_sold  \n",
       "0 2014-10-13          2014  \n",
       "1 2014-12-09          2014  \n",
       "2 2015-02-25          2015  \n",
       "3 2014-12-09          2014  \n",
       "4 2015-02-18          2015  "
      ]
     },
     "execution_count": 20,
     "metadata": {},
     "output_type": "execute_result"
    }
   ],
   "source": [
    "# From description we can see that \"date\" is a object data type, we have to convert this datatype into timestamp so as to \n",
    "# use this column properly for prediction\n",
    "# For this we require pandas to_datetime to convert object data type to datetime dtype.\n",
    "# **.dt.month method will extract only month of that date**\\ **.dt.year method will extract only year of that date**\n",
    "\n",
    "import datetime\n",
    "df['date_str'] = df['date'].astype('datetime64[ns]') # conversion object type to timestamp\n",
    "df['date_yr_sold'] = df['date_str'].dt.year # extract year for use, rtn to create new col\n",
    "df.head()"
   ]
  },
  {
   "cell_type": "code",
   "execution_count": 21,
   "metadata": {},
   "outputs": [
    {
     "data": {
      "text/html": [
       "<div>\n",
       "<style scoped>\n",
       "    .dataframe tbody tr th:only-of-type {\n",
       "        vertical-align: middle;\n",
       "    }\n",
       "\n",
       "    .dataframe tbody tr th {\n",
       "        vertical-align: top;\n",
       "    }\n",
       "\n",
       "    .dataframe thead th {\n",
       "        text-align: right;\n",
       "    }\n",
       "</style>\n",
       "<table border=\"1\" class=\"dataframe\">\n",
       "  <thead>\n",
       "    <tr style=\"text-align: right;\">\n",
       "      <th></th>\n",
       "      <th>price</th>\n",
       "      <th>bedrooms</th>\n",
       "      <th>bathrooms</th>\n",
       "      <th>floors</th>\n",
       "      <th>condition</th>\n",
       "      <th>review_score</th>\n",
       "      <th>basement_size</th>\n",
       "      <th>built</th>\n",
       "      <th>zipcode</th>\n",
       "      <th>latitude</th>\n",
       "      <th>longitude</th>\n",
       "      <th>living_room_size</th>\n",
       "      <th>lot_size</th>\n",
       "      <th>date_yr_sold</th>\n",
       "    </tr>\n",
       "  </thead>\n",
       "  <tbody>\n",
       "    <tr>\n",
       "      <th>0</th>\n",
       "      <td>221900</td>\n",
       "      <td>3</td>\n",
       "      <td>1</td>\n",
       "      <td>1</td>\n",
       "      <td>fair</td>\n",
       "      <td>10</td>\n",
       "      <td>0</td>\n",
       "      <td>1955</td>\n",
       "      <td>98178</td>\n",
       "      <td>47.5112</td>\n",
       "      <td>-122.257</td>\n",
       "      <td>1340</td>\n",
       "      <td>5650</td>\n",
       "      <td>2014</td>\n",
       "    </tr>\n",
       "    <tr>\n",
       "      <th>1</th>\n",
       "      <td>538000</td>\n",
       "      <td>3</td>\n",
       "      <td>2.25</td>\n",
       "      <td>2</td>\n",
       "      <td>fair</td>\n",
       "      <td>7</td>\n",
       "      <td>400</td>\n",
       "      <td>1951</td>\n",
       "      <td>98125</td>\n",
       "      <td>47.721</td>\n",
       "      <td>-122.319</td>\n",
       "      <td>1690</td>\n",
       "      <td>7639</td>\n",
       "      <td>2014</td>\n",
       "    </tr>\n",
       "    <tr>\n",
       "      <th>2</th>\n",
       "      <td>180000</td>\n",
       "      <td>2</td>\n",
       "      <td>1</td>\n",
       "      <td>1</td>\n",
       "      <td>fair</td>\n",
       "      <td>8</td>\n",
       "      <td>0</td>\n",
       "      <td>1933</td>\n",
       "      <td>98028</td>\n",
       "      <td>47.7379</td>\n",
       "      <td>-122.233</td>\n",
       "      <td>2720</td>\n",
       "      <td>8062</td>\n",
       "      <td>2015</td>\n",
       "    </tr>\n",
       "    <tr>\n",
       "      <th>3</th>\n",
       "      <td>604000</td>\n",
       "      <td>4</td>\n",
       "      <td>3</td>\n",
       "      <td>1</td>\n",
       "      <td>excellent</td>\n",
       "      <td>6</td>\n",
       "      <td>910</td>\n",
       "      <td>1965</td>\n",
       "      <td>98136</td>\n",
       "      <td>47.5208</td>\n",
       "      <td>-122.393</td>\n",
       "      <td>1360</td>\n",
       "      <td>5000</td>\n",
       "      <td>2014</td>\n",
       "    </tr>\n",
       "    <tr>\n",
       "      <th>4</th>\n",
       "      <td>510000</td>\n",
       "      <td>3</td>\n",
       "      <td>2</td>\n",
       "      <td>1</td>\n",
       "      <td>fair</td>\n",
       "      <td>6</td>\n",
       "      <td>0</td>\n",
       "      <td>1987</td>\n",
       "      <td>98074</td>\n",
       "      <td>47.6168</td>\n",
       "      <td>-122.045</td>\n",
       "      <td>1800</td>\n",
       "      <td>7503</td>\n",
       "      <td>2015</td>\n",
       "    </tr>\n",
       "  </tbody>\n",
       "</table>\n",
       "</div>"
      ],
      "text/plain": [
       "    price bedrooms bathrooms floors  condition review_score basement_size  \\\n",
       "0  221900        3         1      1       fair           10             0   \n",
       "1  538000        3      2.25      2       fair            7           400   \n",
       "2  180000        2         1      1       fair            8             0   \n",
       "3  604000        4         3      1  excellent            6           910   \n",
       "4  510000        3         2      1       fair            6             0   \n",
       "\n",
       "  built zipcode latitude longitude living_room_size lot_size  date_yr_sold  \n",
       "0  1955   98178  47.5112  -122.257             1340     5650          2014  \n",
       "1  1951   98125   47.721  -122.319             1690     7639          2014  \n",
       "2  1933   98028  47.7379  -122.233             2720     8062          2015  \n",
       "3  1965   98136  47.5208  -122.393             1360     5000          2014  \n",
       "4  1987   98074  47.6168  -122.045             1800     7503          2015  "
      ]
     },
     "execution_count": 21,
     "metadata": {},
     "output_type": "execute_result"
    }
   ],
   "source": [
    "# don't need \"date\" & \"date_str\" anymore, drop them, will use \"date_yr_sold\" for prediction\n",
    "df.drop(\"date\",axis=1,inplace=True) #axis=1 is col, axis=0 is row\n",
    "df.drop(\"date_str\",axis=1,inplace=True)\n",
    "\n",
    "#check for dropped \"date_str\" & newly created \"date_yr_sold\" for getting \"house_age\" later\n",
    "df.head()\n",
    "## => correctly done"
   ]
  },
  {
   "cell_type": "code",
   "execution_count": 22,
   "metadata": {},
   "outputs": [
    {
     "data": {
      "text/plain": [
       "(19688, 14)"
      ]
     },
     "execution_count": 22,
     "metadata": {},
     "output_type": "execute_result"
    }
   ],
   "source": [
    "df.shape\n",
    "## => correct 14 -1(\"date_str\") +1(\"date_yr_sold\")"
   ]
  },
  {
   "cell_type": "code",
   "execution_count": 23,
   "metadata": {},
   "outputs": [
    {
     "data": {
      "text/plain": [
       "array(['221900', '538000', '180000', ..., '839990', '3640900', '619100'],\n",
       "      dtype=object)"
      ]
     },
     "execution_count": 23,
     "metadata": {},
     "output_type": "execute_result"
    }
   ],
   "source": [
    "# check Unique Categories (as part of inpection for each of the 18 variables)\n",
    "df.price.unique()"
   ]
  },
  {
   "cell_type": "code",
   "execution_count": 24,
   "metadata": {},
   "outputs": [
    {
     "data": {
      "text/plain": [
       "450000     150\n",
       "425000     146\n",
       "350000     143\n",
       "550000     141\n",
       "400000     136\n",
       "          ... \n",
       "166950       1\n",
       "829950       1\n",
       "82500        1\n",
       "4208000      1\n",
       "469775       1\n",
       "Name: price, Length: 3684, dtype: int64"
      ]
     },
     "execution_count": 24,
     "metadata": {},
     "output_type": "execute_result"
    }
   ],
   "source": [
    "df['price'].value_counts()\n",
    "# interpret in this manner: 150 Hse sold at $45k"
   ]
  },
  {
   "cell_type": "code",
   "execution_count": 25,
   "metadata": {},
   "outputs": [
    {
     "data": {
      "text/plain": [
       "array(['3', '2', '4', '5', '6', '1', '7', '0', '8', '9', '11', '10'],\n",
       "      dtype=object)"
      ]
     },
     "execution_count": 25,
     "metadata": {},
     "output_type": "execute_result"
    }
   ],
   "source": [
    "# check Unique Categories (as part of inpection for each of the 18 variables)\n",
    "df.bedrooms.unique()"
   ]
  },
  {
   "cell_type": "code",
   "execution_count": 26,
   "metadata": {},
   "outputs": [
    {
     "data": {
      "text/plain": [
       "3     8944\n",
       "4     6304\n",
       "2     2492\n",
       "5     1464\n",
       "6      236\n",
       "1      180\n",
       "7       39\n",
       "0       11\n",
       "8       10\n",
       "9        4\n",
       "10       3\n",
       "11       1\n",
       "Name: bedrooms, dtype: int64"
      ]
     },
     "execution_count": 26,
     "metadata": {},
     "output_type": "execute_result"
    }
   ],
   "source": [
    "df['bedrooms'].value_counts()\n",
    "# interpret in this manner: 8944 3-bedrooms Hse sold"
   ]
  },
  {
   "cell_type": "code",
   "execution_count": 27,
   "metadata": {},
   "outputs": [
    {
     "data": {
      "text/plain": [
       "array(['1', '2.25', '3', '2', '4.5', '1.5', '2.5', '1.75', '2.75', '3.25',\n",
       "       '4', '3.5', '0.75', '4.75', '5', '4.25', '3.75', '0', '5.25', '6',\n",
       "       '1.25', '5.5', '6.75', '5.75', '8', '7.5', '7.75', '0.5', '6.25',\n",
       "       '6.5'], dtype=object)"
      ]
     },
     "execution_count": 27,
     "metadata": {},
     "output_type": "execute_result"
    }
   ],
   "source": [
    "# check Unique Categories (as part of inpection for each of the 18 variables)\n",
    "df.bathrooms.unique()"
   ]
  },
  {
   "cell_type": "code",
   "execution_count": 28,
   "metadata": {},
   "outputs": [
    {
     "data": {
      "text/plain": [
       "2.5     4868\n",
       "1       3503\n",
       "1.75    2757\n",
       "2.25    1887\n",
       "2       1772\n",
       "1.5     1319\n",
       "2.75    1094\n",
       "3        681\n",
       "3.5      667\n",
       "3.25     548\n",
       "3.75     142\n",
       "4        119\n",
       "4.5       88\n",
       "4.25      76\n",
       "0.75      67\n",
       "4.75      18\n",
       "5         17\n",
       "5.25      13\n",
       "0         10\n",
       "5.5       10\n",
       "1.25       8\n",
       "6          6\n",
       "5.75       5\n",
       "0.5        3\n",
       "6.75       2\n",
       "6.25       2\n",
       "6.5        2\n",
       "8          2\n",
       "7.5        1\n",
       "7.75       1\n",
       "Name: bathrooms, dtype: int64"
      ]
     },
     "execution_count": 28,
     "metadata": {},
     "output_type": "execute_result"
    }
   ],
   "source": [
    "df['bathrooms'].value_counts()\n",
    "# interpret in this manner: 2.5 bathrooms hse sales is highest at 4868"
   ]
  },
  {
   "cell_type": "code",
   "execution_count": 29,
   "metadata": {},
   "outputs": [
    {
     "data": {
      "text/plain": [
       "array(['1', '2', '1.5', '3', '2.5', '3.5'], dtype=object)"
      ]
     },
     "execution_count": 29,
     "metadata": {},
     "output_type": "execute_result"
    }
   ],
   "source": [
    "# check Unique Categories (as part of inpection for each of the 18 variables)\n",
    "df.floors.unique()"
   ]
  },
  {
   "cell_type": "code",
   "execution_count": 30,
   "metadata": {},
   "outputs": [
    {
     "data": {
      "text/plain": [
       "1      9713\n",
       "2      7512\n",
       "1.5    1747\n",
       "3       565\n",
       "2.5     144\n",
       "3.5       7\n",
       "Name: floors, dtype: int64"
      ]
     },
     "execution_count": 30,
     "metadata": {},
     "output_type": "execute_result"
    }
   ],
   "source": [
    "df['floors'].value_counts()\n",
    "# interpret in this manner: hse on floor 1 sales highest at 9713 units"
   ]
  },
  {
   "cell_type": "code",
   "execution_count": 31,
   "metadata": {},
   "outputs": [
    {
     "data": {
      "text/plain": [
       "array(['fair', 'excellent', 'FAIR', 'good', 'TERRIBLE', 'poor', 'GOOD',\n",
       "       'EXCELLENT', 'terrible', 'POOR'], dtype=object)"
      ]
     },
     "execution_count": 31,
     "metadata": {},
     "output_type": "execute_result"
    }
   ],
   "source": [
    "# check Unique Categories (as part of inpection for each of the 18 variables)\n",
    "df.condition.unique()"
   ]
  },
  {
   "cell_type": "code",
   "execution_count": 32,
   "metadata": {},
   "outputs": [
    {
     "data": {
      "text/plain": [
       "fair         11789\n",
       "good          4743\n",
       "excellent     1396\n",
       "FAIR           997\n",
       "GOOD           438\n",
       "poor           140\n",
       "EXCELLENT      140\n",
       "terrible        29\n",
       "POOR            14\n",
       "TERRIBLE         2\n",
       "Name: condition, dtype: int64"
      ]
     },
     "execution_count": 32,
     "metadata": {},
     "output_type": "execute_result"
    }
   ],
   "source": [
    "df['condition'].value_counts()\n",
    "# \"condition\" 5 levels intermix Uppercase & Lowercase"
   ]
  },
  {
   "cell_type": "code",
   "execution_count": 33,
   "metadata": {},
   "outputs": [
    {
     "data": {
      "text/plain": [
       "terrible        31\n",
       "poor           154\n",
       "excellent     1536\n",
       "good          5181\n",
       "fair         12786\n",
       "Name: condition1, dtype: int64"
      ]
     },
     "execution_count": 33,
     "metadata": {},
     "output_type": "execute_result"
    }
   ],
   "source": [
    "# change to common lowercase for better grouping under new col \"condition1\"\n",
    "df['condition1'] = df['condition'].str.lower()\n",
    "df['condition1'].value_counts(ascending=True)\n"
   ]
  },
  {
   "cell_type": "code",
   "execution_count": 34,
   "metadata": {},
   "outputs": [
    {
     "data": {
      "text/html": [
       "<div>\n",
       "<style scoped>\n",
       "    .dataframe tbody tr th:only-of-type {\n",
       "        vertical-align: middle;\n",
       "    }\n",
       "\n",
       "    .dataframe tbody tr th {\n",
       "        vertical-align: top;\n",
       "    }\n",
       "\n",
       "    .dataframe thead th {\n",
       "        text-align: right;\n",
       "    }\n",
       "</style>\n",
       "<table border=\"1\" class=\"dataframe\">\n",
       "  <thead>\n",
       "    <tr style=\"text-align: right;\">\n",
       "      <th></th>\n",
       "      <th>price</th>\n",
       "      <th>bedrooms</th>\n",
       "      <th>bathrooms</th>\n",
       "      <th>floors</th>\n",
       "      <th>review_score</th>\n",
       "      <th>basement_size</th>\n",
       "      <th>built</th>\n",
       "      <th>zipcode</th>\n",
       "      <th>latitude</th>\n",
       "      <th>longitude</th>\n",
       "      <th>living_room_size</th>\n",
       "      <th>lot_size</th>\n",
       "      <th>date_yr_sold</th>\n",
       "      <th>condition1</th>\n",
       "    </tr>\n",
       "  </thead>\n",
       "  <tbody>\n",
       "    <tr>\n",
       "      <th>0</th>\n",
       "      <td>221900</td>\n",
       "      <td>3</td>\n",
       "      <td>1</td>\n",
       "      <td>1</td>\n",
       "      <td>10</td>\n",
       "      <td>0</td>\n",
       "      <td>1955</td>\n",
       "      <td>98178</td>\n",
       "      <td>47.5112</td>\n",
       "      <td>-122.257</td>\n",
       "      <td>1340</td>\n",
       "      <td>5650</td>\n",
       "      <td>2014</td>\n",
       "      <td>fair</td>\n",
       "    </tr>\n",
       "    <tr>\n",
       "      <th>1</th>\n",
       "      <td>538000</td>\n",
       "      <td>3</td>\n",
       "      <td>2.25</td>\n",
       "      <td>2</td>\n",
       "      <td>7</td>\n",
       "      <td>400</td>\n",
       "      <td>1951</td>\n",
       "      <td>98125</td>\n",
       "      <td>47.721</td>\n",
       "      <td>-122.319</td>\n",
       "      <td>1690</td>\n",
       "      <td>7639</td>\n",
       "      <td>2014</td>\n",
       "      <td>fair</td>\n",
       "    </tr>\n",
       "    <tr>\n",
       "      <th>2</th>\n",
       "      <td>180000</td>\n",
       "      <td>2</td>\n",
       "      <td>1</td>\n",
       "      <td>1</td>\n",
       "      <td>8</td>\n",
       "      <td>0</td>\n",
       "      <td>1933</td>\n",
       "      <td>98028</td>\n",
       "      <td>47.7379</td>\n",
       "      <td>-122.233</td>\n",
       "      <td>2720</td>\n",
       "      <td>8062</td>\n",
       "      <td>2015</td>\n",
       "      <td>fair</td>\n",
       "    </tr>\n",
       "    <tr>\n",
       "      <th>3</th>\n",
       "      <td>604000</td>\n",
       "      <td>4</td>\n",
       "      <td>3</td>\n",
       "      <td>1</td>\n",
       "      <td>6</td>\n",
       "      <td>910</td>\n",
       "      <td>1965</td>\n",
       "      <td>98136</td>\n",
       "      <td>47.5208</td>\n",
       "      <td>-122.393</td>\n",
       "      <td>1360</td>\n",
       "      <td>5000</td>\n",
       "      <td>2014</td>\n",
       "      <td>excellent</td>\n",
       "    </tr>\n",
       "    <tr>\n",
       "      <th>4</th>\n",
       "      <td>510000</td>\n",
       "      <td>3</td>\n",
       "      <td>2</td>\n",
       "      <td>1</td>\n",
       "      <td>6</td>\n",
       "      <td>0</td>\n",
       "      <td>1987</td>\n",
       "      <td>98074</td>\n",
       "      <td>47.6168</td>\n",
       "      <td>-122.045</td>\n",
       "      <td>1800</td>\n",
       "      <td>7503</td>\n",
       "      <td>2015</td>\n",
       "      <td>fair</td>\n",
       "    </tr>\n",
       "  </tbody>\n",
       "</table>\n",
       "</div>"
      ],
      "text/plain": [
       "    price bedrooms bathrooms floors review_score basement_size built zipcode  \\\n",
       "0  221900        3         1      1           10             0  1955   98178   \n",
       "1  538000        3      2.25      2            7           400  1951   98125   \n",
       "2  180000        2         1      1            8             0  1933   98028   \n",
       "3  604000        4         3      1            6           910  1965   98136   \n",
       "4  510000        3         2      1            6             0  1987   98074   \n",
       "\n",
       "  latitude longitude living_room_size lot_size  date_yr_sold condition1  \n",
       "0  47.5112  -122.257             1340     5650          2014       fair  \n",
       "1   47.721  -122.319             1690     7639          2014       fair  \n",
       "2  47.7379  -122.233             2720     8062          2015       fair  \n",
       "3  47.5208  -122.393             1360     5000          2014  excellent  \n",
       "4  47.6168  -122.045             1800     7503          2015       fair  "
      ]
     },
     "execution_count": 34,
     "metadata": {},
     "output_type": "execute_result"
    }
   ],
   "source": [
    "# don't need he previous col \"condition\" anymore, drop it\n",
    "df.drop(\"condition\",axis=1,inplace=True) #axis=1 is col, axis=0 is row\n",
    "\n",
    "#check for dropped \"condition\" & newly created \"condition1\" \n",
    "df.head()\n",
    "## => correctly done"
   ]
  },
  {
   "cell_type": "code",
   "execution_count": 35,
   "metadata": {},
   "outputs": [
    {
     "data": {
      "text/plain": [
       "1       31\n",
       "2      154\n",
       "5     1536\n",
       "4     5181\n",
       "3    12786\n",
       "Name: condition1, dtype: int64"
      ]
     },
     "execution_count": 35,
     "metadata": {},
     "output_type": "execute_result"
    }
   ],
   "source": [
    "# Categorical Data need encoding for ML to process\n",
    "## using Pandas Map() is more relevant here than using sklearn LabelEncoder() or One Hot Encoding, allowed us to specify the\n",
    "# order of the values in our categorical feature to ensure they are in a meaningful arrangement\n",
    "\n",
    "## create dictionary of ordinal to integer mapping\n",
    "condition1 = {'terrible':1, 'poor':2, 'fair':3, 'good':4, 'excellent':5,}\n",
    "\n",
    "# apply using map\n",
    "df['condition1'] = df.condition1.map(condition1)\n",
    "df['condition1'].value_counts(ascending=True)"
   ]
  },
  {
   "cell_type": "code",
   "execution_count": 36,
   "metadata": {},
   "outputs": [
    {
     "data": {
      "text/html": [
       "<div>\n",
       "<style scoped>\n",
       "    .dataframe tbody tr th:only-of-type {\n",
       "        vertical-align: middle;\n",
       "    }\n",
       "\n",
       "    .dataframe tbody tr th {\n",
       "        vertical-align: top;\n",
       "    }\n",
       "\n",
       "    .dataframe thead th {\n",
       "        text-align: right;\n",
       "    }\n",
       "</style>\n",
       "<table border=\"1\" class=\"dataframe\">\n",
       "  <thead>\n",
       "    <tr style=\"text-align: right;\">\n",
       "      <th></th>\n",
       "      <th>price</th>\n",
       "      <th>bedrooms</th>\n",
       "      <th>bathrooms</th>\n",
       "      <th>floors</th>\n",
       "      <th>review_score</th>\n",
       "      <th>basement_size</th>\n",
       "      <th>built</th>\n",
       "      <th>zipcode</th>\n",
       "      <th>latitude</th>\n",
       "      <th>longitude</th>\n",
       "      <th>living_room_size</th>\n",
       "      <th>lot_size</th>\n",
       "      <th>date_yr_sold</th>\n",
       "      <th>condition1</th>\n",
       "    </tr>\n",
       "  </thead>\n",
       "  <tbody>\n",
       "    <tr>\n",
       "      <th>0</th>\n",
       "      <td>221900</td>\n",
       "      <td>3</td>\n",
       "      <td>1</td>\n",
       "      <td>1</td>\n",
       "      <td>10</td>\n",
       "      <td>0</td>\n",
       "      <td>1955</td>\n",
       "      <td>98178</td>\n",
       "      <td>47.5112</td>\n",
       "      <td>-122.257</td>\n",
       "      <td>1340</td>\n",
       "      <td>5650</td>\n",
       "      <td>2014</td>\n",
       "      <td>3</td>\n",
       "    </tr>\n",
       "    <tr>\n",
       "      <th>1</th>\n",
       "      <td>538000</td>\n",
       "      <td>3</td>\n",
       "      <td>2.25</td>\n",
       "      <td>2</td>\n",
       "      <td>7</td>\n",
       "      <td>400</td>\n",
       "      <td>1951</td>\n",
       "      <td>98125</td>\n",
       "      <td>47.721</td>\n",
       "      <td>-122.319</td>\n",
       "      <td>1690</td>\n",
       "      <td>7639</td>\n",
       "      <td>2014</td>\n",
       "      <td>3</td>\n",
       "    </tr>\n",
       "    <tr>\n",
       "      <th>2</th>\n",
       "      <td>180000</td>\n",
       "      <td>2</td>\n",
       "      <td>1</td>\n",
       "      <td>1</td>\n",
       "      <td>8</td>\n",
       "      <td>0</td>\n",
       "      <td>1933</td>\n",
       "      <td>98028</td>\n",
       "      <td>47.7379</td>\n",
       "      <td>-122.233</td>\n",
       "      <td>2720</td>\n",
       "      <td>8062</td>\n",
       "      <td>2015</td>\n",
       "      <td>3</td>\n",
       "    </tr>\n",
       "    <tr>\n",
       "      <th>3</th>\n",
       "      <td>604000</td>\n",
       "      <td>4</td>\n",
       "      <td>3</td>\n",
       "      <td>1</td>\n",
       "      <td>6</td>\n",
       "      <td>910</td>\n",
       "      <td>1965</td>\n",
       "      <td>98136</td>\n",
       "      <td>47.5208</td>\n",
       "      <td>-122.393</td>\n",
       "      <td>1360</td>\n",
       "      <td>5000</td>\n",
       "      <td>2014</td>\n",
       "      <td>5</td>\n",
       "    </tr>\n",
       "    <tr>\n",
       "      <th>4</th>\n",
       "      <td>510000</td>\n",
       "      <td>3</td>\n",
       "      <td>2</td>\n",
       "      <td>1</td>\n",
       "      <td>6</td>\n",
       "      <td>0</td>\n",
       "      <td>1987</td>\n",
       "      <td>98074</td>\n",
       "      <td>47.6168</td>\n",
       "      <td>-122.045</td>\n",
       "      <td>1800</td>\n",
       "      <td>7503</td>\n",
       "      <td>2015</td>\n",
       "      <td>3</td>\n",
       "    </tr>\n",
       "  </tbody>\n",
       "</table>\n",
       "</div>"
      ],
      "text/plain": [
       "    price bedrooms bathrooms floors review_score basement_size built zipcode  \\\n",
       "0  221900        3         1      1           10             0  1955   98178   \n",
       "1  538000        3      2.25      2            7           400  1951   98125   \n",
       "2  180000        2         1      1            8             0  1933   98028   \n",
       "3  604000        4         3      1            6           910  1965   98136   \n",
       "4  510000        3         2      1            6             0  1987   98074   \n",
       "\n",
       "  latitude longitude living_room_size lot_size  date_yr_sold  condition1  \n",
       "0  47.5112  -122.257             1340     5650          2014           3  \n",
       "1   47.721  -122.319             1690     7639          2014           3  \n",
       "2  47.7379  -122.233             2720     8062          2015           3  \n",
       "3  47.5208  -122.393             1360     5000          2014           5  \n",
       "4  47.6168  -122.045             1800     7503          2015           3  "
      ]
     },
     "execution_count": 36,
     "metadata": {},
     "output_type": "execute_result"
    }
   ],
   "source": [
    "#check for dropped \"condition\" & newly created \"condition1\" \n",
    "df.head()\n",
    "## => correctly done"
   ]
  },
  {
   "cell_type": "code",
   "execution_count": 37,
   "metadata": {},
   "outputs": [
    {
     "data": {
      "text/plain": [
       "(19688, 14)"
      ]
     },
     "execution_count": 37,
     "metadata": {},
     "output_type": "execute_result"
    }
   ],
   "source": [
    "df.shape\n",
    "# 14 +(\"condition1\") -(\"condition\")"
   ]
  },
  {
   "cell_type": "code",
   "execution_count": 38,
   "metadata": {},
   "outputs": [
    {
     "data": {
      "text/plain": [
       "array(['10', '7', '8', '6', '9', '5', '11', '12', '4', '13', '1', '3'],\n",
       "      dtype=object)"
      ]
     },
     "execution_count": 38,
     "metadata": {},
     "output_type": "execute_result"
    }
   ],
   "source": [
    "# check Unique Categories (as part of inpection for each of the 18 variables)\n",
    "df.review_score.unique()"
   ]
  },
  {
   "cell_type": "code",
   "execution_count": 39,
   "metadata": {},
   "outputs": [
    {
     "data": {
      "text/plain": [
       "7     8183\n",
       "8     5518\n",
       "9     2383\n",
       "6     1859\n",
       "10    1039\n",
       "11     356\n",
       "5      221\n",
       "12      87\n",
       "4       25\n",
       "13      14\n",
       "3        2\n",
       "1        1\n",
       "Name: review_score, dtype: int64"
      ]
     },
     "execution_count": 39,
     "metadata": {},
     "output_type": "execute_result"
    }
   ],
   "source": [
    "df['review_score'].value_counts()\n",
    "# interpret in this manner: review score \"7\" is highest at 8183 times"
   ]
  },
  {
   "cell_type": "code",
   "execution_count": 40,
   "metadata": {},
   "outputs": [
    {
     "data": {
      "text/plain": [
       "array(['0', '400', '910', '1530', '730', '1700', '300', '970', '760',\n",
       "       '700', '820', '780', '790', '330', '1620', '360', '588', '1510',\n",
       "       '410', '990', '600', '560', '550', '500', '1040', '880', '240',\n",
       "       '265', '290', '800', '1000', '1600', '840', '380', '770', '480',\n",
       "       '570', '1490', '620', '1010', '1250', '1270', '120', '650', '180',\n",
       "       '1130', '450', '1640', '1020', '1030', '750', '640', '1070', '490',\n",
       "       '630', '2000', '390', '430', '850', '210', '1430', '1950', '440',\n",
       "       '1160', '860', '580', '2060', '1820', '1180', '200', '1150',\n",
       "       '1200', '680', '530', '1450', '1170', '1080', '1100', '280', '460',\n",
       "       '1400', '720', '1320', '1220', '900', '420', '1580', '1380', '475',\n",
       "       '690', '270', '350', '935', '710', '1370', '980', '1470', '160',\n",
       "       '950', '50', '740', '1780', '1900', '340', '470', '370', '540',\n",
       "       '140', '1760', '130', '610', '520', '890', '660', '1110', '150',\n",
       "       '1720', '960', '810', '190', '1290', '670', '1800', '1120', '60',\n",
       "       '1050', '940', '930', '1390', '1830', '310', '1300', '510', '1330',\n",
       "       '1590', '920', '1420', '1560', '2020', '1190', '2110', '1280',\n",
       "       '250', '220', '2390', '1230', '170', '830', '1260', '1410', '1340',\n",
       "       '590', '1500', '1140', '260', '100', '320', '1060', '1284', '1240',\n",
       "       '1350', '2570', '2590', '1090', '110', '1480', '2500', '90',\n",
       "       '1940', '1550', '2350', '2490', '1481', '1360', '1135', '1850',\n",
       "       '1660', '2130', '870', '2600', '1690', '243', '1210', '1520',\n",
       "       '2620', '1024', '1798', '1610', '1570', '704', '1910', '1630',\n",
       "       '2360', '1852', '2090', '1310', '2400', '1790', '2150', '230',\n",
       "       '1440', '1680', '2100', '3000', '1870', '1460', '1710', '2030',\n",
       "       '1650', '875', '1540', '2850', '2170', '506', '906', '1670', '145',\n",
       "       '2040', '784', '1750', '374', '518', '2720', '70', '2730', '1840',\n",
       "       '3480', '2160', '1920', '2330', '1860', '2050', '4820', '1913',\n",
       "       '80', '3260', '2200', '415', '1730', '652', '2196', '1930', '1810',\n",
       "       '515', '2080', '2580', '1548', '1740', '235', '861', '1890',\n",
       "       '2220', '792', '2070', '4130', '2250', '2240', '894', '1990',\n",
       "       '768', '2550', '435', '1008', '2300', '2610', '666', '3500',\n",
       "       '2010', '172', '1816', '2190', '1245', '1525', '1880', '862',\n",
       "       '1281', '414', '2180', '276', '1248', '40', '602', '516', '176',\n",
       "       '225', '1275', '266', '283', '65', '2310', '10', '1770', '2120',\n",
       "       '295', '915', '556', '143', '508', '2810', '20', '274', '248'],\n",
       "      dtype=object)"
      ]
     },
     "execution_count": 40,
     "metadata": {},
     "output_type": "execute_result"
    }
   ],
   "source": [
    "# check Unique Categories (as part of inpection for each of the 18 variables)\n",
    "df.basement_size.unique()"
   ]
  },
  {
   "cell_type": "code",
   "execution_count": 41,
   "metadata": {},
   "outputs": [
    {
     "data": {
      "text/plain": [
       "0       11950\n",
       "600       208\n",
       "500       206\n",
       "700       190\n",
       "800       185\n",
       "        ...  \n",
       "1920        1\n",
       "2240        1\n",
       "1810        1\n",
       "1245        1\n",
       "2120        1\n",
       "Name: basement_size, Length: 302, dtype: int64"
      ]
     },
     "execution_count": 41,
     "metadata": {},
     "output_type": "execute_result"
    }
   ],
   "source": [
    "df['basement_size'].value_counts()\n",
    "# interpret in this manner: \"0\" no basement has highest hse sales at 11950, 600sqft comes 2nd at 208"
   ]
  },
  {
   "cell_type": "code",
   "execution_count": 42,
   "metadata": {},
   "outputs": [
    {
     "data": {
      "text/plain": [
       "array(['1955', '1951', '1933', '1965', '1987', '2001', '1995', '1963',\n",
       "       '1960', '2003', '1942', '1977', '1900', '1979', '1994', '1916',\n",
       "       '1921', '1969', '1947', '1985', '1941', '1915', '1909', '1948',\n",
       "       '2005', '1929', '1981', '1930', '1904', '1996', '1984', '1922',\n",
       "       '1959', '1966', '1953', '1950', '1927', '2008', '1968', '1991',\n",
       "       '1954', '1989', '1973', '1972', '1986', '1956', '1992', '1964',\n",
       "       '1952', '1925', '1961', '2006', '1939', '1946', '1967', '1910',\n",
       "       '1983', '1978', '1905', '1971', '2010', '1924', '1990', '1914',\n",
       "       '1926', '2004', '2014', '1962', '1923', '2007', '2000', '1975',\n",
       "       '1976', '1949', '1999', '1980', '1988', '1993', '1901', '1920',\n",
       "       '1997', '1943', '1957', '1940', '1918', '1928', '1974', '1911',\n",
       "       '1936', '1937', '1982', '1908', '1931', '2002', '1998', '2013',\n",
       "       '1907', '1958', '2012', '1912', '2011', '1917', '1932', '1944',\n",
       "       '1902', '2009', '1903', '1970', '2015', '1934', '1938', '1913',\n",
       "       '1919', '1906', '1945', '1935'], dtype=object)"
      ]
     },
     "execution_count": 42,
     "metadata": {},
     "output_type": "execute_result"
    }
   ],
   "source": [
    "# check Unique Categories (as part of inpection for each of the 18 variables)\n",
    "df.built.unique()"
   ]
  },
  {
   "cell_type": "code",
   "execution_count": 43,
   "metadata": {},
   "outputs": [
    {
     "data": {
      "text/plain": [
       "2014    505\n",
       "2006    422\n",
       "2005    420\n",
       "2007    384\n",
       "1977    384\n",
       "       ... \n",
       "1933     31\n",
       "1901     26\n",
       "1902     24\n",
       "1935     22\n",
       "1934     19\n",
       "Name: built, Length: 116, dtype: int64"
      ]
     },
     "execution_count": 43,
     "metadata": {},
     "output_type": "execute_result"
    }
   ],
   "source": [
    "df['built'].value_counts()\n",
    "# interpret in this manner: hse built in 2014 has the highest sales, followed by 2006, 2005..."
   ]
  },
  {
   "cell_type": "code",
   "execution_count": 44,
   "metadata": {},
   "outputs": [],
   "source": [
    "# There isn't any use knowing \"Built\" Yr, we need create new derived feature that are more useful i.e. “House Age” by using\n",
    "# “date_year” (date year of sale) minus “built\" year"
   ]
  },
  {
   "cell_type": "code",
   "execution_count": 45,
   "metadata": {},
   "outputs": [],
   "source": [
    "# need convert \"built\" object type to numeric for arithmetic\n",
    "df[\"built\"] = pd.to_numeric(df[\"built\"])"
   ]
  },
  {
   "cell_type": "code",
   "execution_count": 46,
   "metadata": {},
   "outputs": [
    {
     "data": {
      "text/html": [
       "<div>\n",
       "<style scoped>\n",
       "    .dataframe tbody tr th:only-of-type {\n",
       "        vertical-align: middle;\n",
       "    }\n",
       "\n",
       "    .dataframe tbody tr th {\n",
       "        vertical-align: top;\n",
       "    }\n",
       "\n",
       "    .dataframe thead th {\n",
       "        text-align: right;\n",
       "    }\n",
       "</style>\n",
       "<table border=\"1\" class=\"dataframe\">\n",
       "  <thead>\n",
       "    <tr style=\"text-align: right;\">\n",
       "      <th></th>\n",
       "      <th>price</th>\n",
       "      <th>bedrooms</th>\n",
       "      <th>bathrooms</th>\n",
       "      <th>floors</th>\n",
       "      <th>review_score</th>\n",
       "      <th>basement_size</th>\n",
       "      <th>built</th>\n",
       "      <th>zipcode</th>\n",
       "      <th>latitude</th>\n",
       "      <th>longitude</th>\n",
       "      <th>living_room_size</th>\n",
       "      <th>lot_size</th>\n",
       "      <th>date_yr_sold</th>\n",
       "      <th>condition1</th>\n",
       "      <th>house_age</th>\n",
       "    </tr>\n",
       "  </thead>\n",
       "  <tbody>\n",
       "    <tr>\n",
       "      <th>0</th>\n",
       "      <td>221900</td>\n",
       "      <td>3</td>\n",
       "      <td>1</td>\n",
       "      <td>1</td>\n",
       "      <td>10</td>\n",
       "      <td>0</td>\n",
       "      <td>1955</td>\n",
       "      <td>98178</td>\n",
       "      <td>47.5112</td>\n",
       "      <td>-122.257</td>\n",
       "      <td>1340</td>\n",
       "      <td>5650</td>\n",
       "      <td>2014</td>\n",
       "      <td>3</td>\n",
       "      <td>59</td>\n",
       "    </tr>\n",
       "    <tr>\n",
       "      <th>1</th>\n",
       "      <td>538000</td>\n",
       "      <td>3</td>\n",
       "      <td>2.25</td>\n",
       "      <td>2</td>\n",
       "      <td>7</td>\n",
       "      <td>400</td>\n",
       "      <td>1951</td>\n",
       "      <td>98125</td>\n",
       "      <td>47.721</td>\n",
       "      <td>-122.319</td>\n",
       "      <td>1690</td>\n",
       "      <td>7639</td>\n",
       "      <td>2014</td>\n",
       "      <td>3</td>\n",
       "      <td>63</td>\n",
       "    </tr>\n",
       "    <tr>\n",
       "      <th>2</th>\n",
       "      <td>180000</td>\n",
       "      <td>2</td>\n",
       "      <td>1</td>\n",
       "      <td>1</td>\n",
       "      <td>8</td>\n",
       "      <td>0</td>\n",
       "      <td>1933</td>\n",
       "      <td>98028</td>\n",
       "      <td>47.7379</td>\n",
       "      <td>-122.233</td>\n",
       "      <td>2720</td>\n",
       "      <td>8062</td>\n",
       "      <td>2015</td>\n",
       "      <td>3</td>\n",
       "      <td>82</td>\n",
       "    </tr>\n",
       "    <tr>\n",
       "      <th>3</th>\n",
       "      <td>604000</td>\n",
       "      <td>4</td>\n",
       "      <td>3</td>\n",
       "      <td>1</td>\n",
       "      <td>6</td>\n",
       "      <td>910</td>\n",
       "      <td>1965</td>\n",
       "      <td>98136</td>\n",
       "      <td>47.5208</td>\n",
       "      <td>-122.393</td>\n",
       "      <td>1360</td>\n",
       "      <td>5000</td>\n",
       "      <td>2014</td>\n",
       "      <td>5</td>\n",
       "      <td>49</td>\n",
       "    </tr>\n",
       "    <tr>\n",
       "      <th>4</th>\n",
       "      <td>510000</td>\n",
       "      <td>3</td>\n",
       "      <td>2</td>\n",
       "      <td>1</td>\n",
       "      <td>6</td>\n",
       "      <td>0</td>\n",
       "      <td>1987</td>\n",
       "      <td>98074</td>\n",
       "      <td>47.6168</td>\n",
       "      <td>-122.045</td>\n",
       "      <td>1800</td>\n",
       "      <td>7503</td>\n",
       "      <td>2015</td>\n",
       "      <td>3</td>\n",
       "      <td>28</td>\n",
       "    </tr>\n",
       "  </tbody>\n",
       "</table>\n",
       "</div>"
      ],
      "text/plain": [
       "    price bedrooms bathrooms floors review_score basement_size  built zipcode  \\\n",
       "0  221900        3         1      1           10             0   1955   98178   \n",
       "1  538000        3      2.25      2            7           400   1951   98125   \n",
       "2  180000        2         1      1            8             0   1933   98028   \n",
       "3  604000        4         3      1            6           910   1965   98136   \n",
       "4  510000        3         2      1            6             0   1987   98074   \n",
       "\n",
       "  latitude longitude living_room_size lot_size  date_yr_sold  condition1  \\\n",
       "0  47.5112  -122.257             1340     5650          2014           3   \n",
       "1   47.721  -122.319             1690     7639          2014           3   \n",
       "2  47.7379  -122.233             2720     8062          2015           3   \n",
       "3  47.5208  -122.393             1360     5000          2014           5   \n",
       "4  47.6168  -122.045             1800     7503          2015           3   \n",
       "\n",
       "   house_age  \n",
       "0         59  \n",
       "1         63  \n",
       "2         82  \n",
       "3         49  \n",
       "4         28  "
      ]
     },
     "execution_count": 46,
     "metadata": {},
     "output_type": "execute_result"
    }
   ],
   "source": [
    "df[\"house_age\"] = df[\"date_yr_sold\"] - df[\"built\"]\n",
    "df.head()\n",
    "## => \"house age\" created & correctly calculated"
   ]
  },
  {
   "cell_type": "code",
   "execution_count": 47,
   "metadata": {},
   "outputs": [
    {
     "data": {
      "text/html": [
       "<div>\n",
       "<style scoped>\n",
       "    .dataframe tbody tr th:only-of-type {\n",
       "        vertical-align: middle;\n",
       "    }\n",
       "\n",
       "    .dataframe tbody tr th {\n",
       "        vertical-align: top;\n",
       "    }\n",
       "\n",
       "    .dataframe thead th {\n",
       "        text-align: right;\n",
       "    }\n",
       "</style>\n",
       "<table border=\"1\" class=\"dataframe\">\n",
       "  <thead>\n",
       "    <tr style=\"text-align: right;\">\n",
       "      <th></th>\n",
       "      <th>price</th>\n",
       "      <th>bedrooms</th>\n",
       "      <th>bathrooms</th>\n",
       "      <th>floors</th>\n",
       "      <th>review_score</th>\n",
       "      <th>basement_size</th>\n",
       "      <th>zipcode</th>\n",
       "      <th>latitude</th>\n",
       "      <th>longitude</th>\n",
       "      <th>living_room_size</th>\n",
       "      <th>lot_size</th>\n",
       "      <th>condition1</th>\n",
       "      <th>house_age</th>\n",
       "    </tr>\n",
       "  </thead>\n",
       "  <tbody>\n",
       "    <tr>\n",
       "      <th>0</th>\n",
       "      <td>221900</td>\n",
       "      <td>3</td>\n",
       "      <td>1</td>\n",
       "      <td>1</td>\n",
       "      <td>10</td>\n",
       "      <td>0</td>\n",
       "      <td>98178</td>\n",
       "      <td>47.5112</td>\n",
       "      <td>-122.257</td>\n",
       "      <td>1340</td>\n",
       "      <td>5650</td>\n",
       "      <td>3</td>\n",
       "      <td>59</td>\n",
       "    </tr>\n",
       "    <tr>\n",
       "      <th>1</th>\n",
       "      <td>538000</td>\n",
       "      <td>3</td>\n",
       "      <td>2.25</td>\n",
       "      <td>2</td>\n",
       "      <td>7</td>\n",
       "      <td>400</td>\n",
       "      <td>98125</td>\n",
       "      <td>47.721</td>\n",
       "      <td>-122.319</td>\n",
       "      <td>1690</td>\n",
       "      <td>7639</td>\n",
       "      <td>3</td>\n",
       "      <td>63</td>\n",
       "    </tr>\n",
       "    <tr>\n",
       "      <th>2</th>\n",
       "      <td>180000</td>\n",
       "      <td>2</td>\n",
       "      <td>1</td>\n",
       "      <td>1</td>\n",
       "      <td>8</td>\n",
       "      <td>0</td>\n",
       "      <td>98028</td>\n",
       "      <td>47.7379</td>\n",
       "      <td>-122.233</td>\n",
       "      <td>2720</td>\n",
       "      <td>8062</td>\n",
       "      <td>3</td>\n",
       "      <td>82</td>\n",
       "    </tr>\n",
       "    <tr>\n",
       "      <th>3</th>\n",
       "      <td>604000</td>\n",
       "      <td>4</td>\n",
       "      <td>3</td>\n",
       "      <td>1</td>\n",
       "      <td>6</td>\n",
       "      <td>910</td>\n",
       "      <td>98136</td>\n",
       "      <td>47.5208</td>\n",
       "      <td>-122.393</td>\n",
       "      <td>1360</td>\n",
       "      <td>5000</td>\n",
       "      <td>5</td>\n",
       "      <td>49</td>\n",
       "    </tr>\n",
       "    <tr>\n",
       "      <th>4</th>\n",
       "      <td>510000</td>\n",
       "      <td>3</td>\n",
       "      <td>2</td>\n",
       "      <td>1</td>\n",
       "      <td>6</td>\n",
       "      <td>0</td>\n",
       "      <td>98074</td>\n",
       "      <td>47.6168</td>\n",
       "      <td>-122.045</td>\n",
       "      <td>1800</td>\n",
       "      <td>7503</td>\n",
       "      <td>3</td>\n",
       "      <td>28</td>\n",
       "    </tr>\n",
       "  </tbody>\n",
       "</table>\n",
       "</div>"
      ],
      "text/plain": [
       "    price bedrooms bathrooms floors review_score basement_size zipcode  \\\n",
       "0  221900        3         1      1           10             0   98178   \n",
       "1  538000        3      2.25      2            7           400   98125   \n",
       "2  180000        2         1      1            8             0   98028   \n",
       "3  604000        4         3      1            6           910   98136   \n",
       "4  510000        3         2      1            6             0   98074   \n",
       "\n",
       "  latitude longitude living_room_size lot_size  condition1  house_age  \n",
       "0  47.5112  -122.257             1340     5650           3         59  \n",
       "1   47.721  -122.319             1690     7639           3         63  \n",
       "2  47.7379  -122.233             2720     8062           3         82  \n",
       "3  47.5208  -122.393             1360     5000           5         49  \n",
       "4  47.6168  -122.045             1800     7503           3         28  "
      ]
     },
     "execution_count": 47,
     "metadata": {},
     "output_type": "execute_result"
    }
   ],
   "source": [
    "# Proceed drop cols \"built\", \"date_yr_sold\" as no more use, \n",
    "df = df[['price', 'bedrooms', 'bathrooms', 'floors', 'review_score', \n",
    "       'basement_size', 'zipcode', 'latitude', 'longitude',\n",
    "        'living_room_size','lot_size', 'condition1','house_age']]\n",
    "# check if correctly done\n",
    "df.head()"
   ]
  },
  {
   "cell_type": "code",
   "execution_count": 48,
   "metadata": {},
   "outputs": [
    {
     "data": {
      "text/plain": [
       "(19688, 13)"
      ]
     },
     "execution_count": 48,
     "metadata": {},
     "output_type": "execute_result"
    }
   ],
   "source": [
    "df.shape\n",
    "# 14 +1(\"house_age\") -2 (\"built\", \"date_yr_sold\")"
   ]
  },
  {
   "cell_type": "code",
   "execution_count": 49,
   "metadata": {},
   "outputs": [
    {
     "data": {
      "text/plain": [
       "array(['98178', '98125', '98028', '98136', '98074', '98053', '98003',\n",
       "       '98198', '98146', '98038', '98007', '98115', '98107', '98126',\n",
       "       '98019', '98103', '98002', '98133', '98092', '98030', '98119',\n",
       "       '98112', '98052', '98027', '98117', '98058', '98001', '98056',\n",
       "       '98166', '98023', '98070', '98148', '98105', '98042', '98008',\n",
       "       '98059', '98122', '98004', '98005', '98034', '98075', '98116',\n",
       "       '98199', '98040', '98032', '98045', '98102', '98077', '98108',\n",
       "       '98168', '98144', '98177', '98118', '98065', '98029', '98006',\n",
       "       '98109', '98022', '98033', '98155', '98024', '98011', '98031',\n",
       "       '98010', '98106', '98072', '98188', '98014', '98055', '98039'],\n",
       "      dtype=object)"
      ]
     },
     "execution_count": 49,
     "metadata": {},
     "output_type": "execute_result"
    }
   ],
   "source": [
    "# check Unique Categories (as part of inpection for each of the 18 variables)\n",
    "df.zipcode.unique()"
   ]
  },
  {
   "cell_type": "code",
   "execution_count": 50,
   "metadata": {},
   "outputs": [
    {
     "data": {
      "text/plain": [
       "98103    549\n",
       "98038    544\n",
       "98052    539\n",
       "98115    536\n",
       "98034    516\n",
       "        ... \n",
       "98109     94\n",
       "98010     89\n",
       "98024     74\n",
       "98148     53\n",
       "98039     45\n",
       "Name: zipcode, Length: 70, dtype: int64"
      ]
     },
     "execution_count": 50,
     "metadata": {},
     "output_type": "execute_result"
    }
   ],
   "source": [
    "df['zipcode'].value_counts()\n",
    "# interpret in this manner: 549 hse located at this zipcode 98103"
   ]
  },
  {
   "cell_type": "code",
   "execution_count": 51,
   "metadata": {},
   "outputs": [
    {
     "data": {
      "text/plain": [
       "array(['47.5112', '47.721', '47.7379', ..., '47.3708', '47.214', '47.389'],\n",
       "      dtype=object)"
      ]
     },
     "execution_count": 51,
     "metadata": {},
     "output_type": "execute_result"
    }
   ],
   "source": [
    "# check Unique Categories (as part of inpection for each of the 18 variables)\n",
    "df.latitude.unique()"
   ]
  },
  {
   "cell_type": "code",
   "execution_count": 52,
   "metadata": {},
   "outputs": [
    {
     "data": {
      "text/plain": [
       "47.5322    18\n",
       "47.6886    17\n",
       "47.6727    16\n",
       "47.6711    16\n",
       "47.6846    16\n",
       "           ..\n",
       "47.3315     1\n",
       "47.3048     1\n",
       "47.274      1\n",
       "47.2672     1\n",
       "47.6047     1\n",
       "Name: latitude, Length: 4900, dtype: int64"
      ]
     },
     "execution_count": 52,
     "metadata": {},
     "output_type": "execute_result"
    }
   ],
   "source": [
    "df['latitude'].value_counts()\n",
    "# interpret in this manner: 18 hses is on lat 47.5322"
   ]
  },
  {
   "cell_type": "code",
   "execution_count": 53,
   "metadata": {},
   "outputs": [
    {
     "data": {
      "text/plain": [
       "array(['-122.257', '-122.319', '-122.233', '-122.393', '-122.045',\n",
       "       '-122.005', '-122.327', '-122.315', '-122.337', '-122.031',\n",
       "       '-122.145', '-122.292', '-122.394', '-122.375', '-121.962',\n",
       "       '-122.343', '-122.21', '-122.306', '-122.341', '-122.169',\n",
       "       '-122.166', '-122.172', '-122.218', '-122.36', '-122.314',\n",
       "       '-122.304', '-122.11', '-122.07', '-122.357', '-122.368',\n",
       "       '-122.157', '-122.31', '-122.132', '-122.362', '-122.282',\n",
       "       '-122.18', '-122.347', '-122.364', '-122.175', '-121.977',\n",
       "       '-122.371', '-122.301', '-122.451', '-122.322', '-122.189',\n",
       "       '-122.384', '-122.369', '-122.281', '-122.29', '-122.114',\n",
       "       '-122.122', '-122.116', '-122.149', '-122.339', '-122.335',\n",
       "       '-122.297', '-122.192', '-122.16', '-122.179', '-122.287',\n",
       "       '-122.036', '-122.073', '-121.987', '-122.125', '-122.34',\n",
       "       '-122.365', '-122.194', '-122.387', '-122.391', '-122.386',\n",
       "       '-122.249', '-122.277', '-121.714', '-122.08', '-122.196',\n",
       "       '-122.184', '-122.133', '-122.38', '-122.082', '-122.109',\n",
       "       '-122.053', '-122.349', '-122.295', '-122.303', '-122.294',\n",
       "       '-122.226', '-122.266', '-122.098', '-122.212', '-122.244',\n",
       "       '-122.39', '-122.352', '-121.85', '-122.152', '-122.054',\n",
       "       '-122.072', '-121.998', '-122.296', '-122.299', '-122.381',\n",
       "       '-122.358', '-122.128', '-122.171', '-122.351', '-122.174',\n",
       "       '-122.026', '-122.353', '-121.943', '-122.286', '-122.336',\n",
       "       '-122.359', '-122.162', '-122.176', '-121.996', '-122.118',\n",
       "       '-122.193', '-122.023', '-122.224', '-122.168', '-122.231',\n",
       "       '-122.331', '-122.374', '-122.308', '-121.999', '-122.376',\n",
       "       '-122.039', '-122.102', '-122.188', '-122.379', '-122.043',\n",
       "       '-122.153', '-122.191', '-122.3', '-122.312', '-122.372',\n",
       "       '-121.911', '-122.165', '-122.37', '-122.158', '-122.219',\n",
       "       '-122.047', '-122.284', '-122.017', '-122.275', '-122.268',\n",
       "       '-122.291', '-122.367', '-122.215', '-122.217', '-122.373',\n",
       "       '-122.013', '-122.214', '-122.034', '-122.164', '-121.95',\n",
       "       '-122.324', '-122.216', '-122.395', '-122.213', '-122.345',\n",
       "       '-122.278', '-122.111', '-121.711', '-122.27', '-122.178',\n",
       "       '-122.32', '-122.147', '-121.772', '-122.302', '-122.438',\n",
       "       '-122.223', '-122.042', '-122.323', '-122.255', '-122.4',\n",
       "       '-122.261', '-122.071', '-122.206', '-122.272', '-122.025',\n",
       "       '-122.23', '-122.144', '-122.151', '-122.181', '-122.311',\n",
       "       '-122.274', '-122.077', '-122', '-122.058', '-121.837', '-122.057',\n",
       "       '-122.252', '-122.093', '-122.344', '-122.012', '-122.052',\n",
       "       '-122.22', '-122.49', '-121.875', '-122.24', '-122.078',\n",
       "       '-122.173', '-122.307', '-121.854', '-122.222', '-122.28',\n",
       "       '-122.137', '-122.159', '-121.974', '-122.141', '-122.029',\n",
       "       '-121.709', '-122.016', '-122.182', '-122.19', '-121.97',\n",
       "       '-122.329', '-122.195', '-122.06', '-122.095', '-122.148',\n",
       "       '-122.146', '-122.35', '-121.901', '-122.241', '-122.129',\n",
       "       '-122.289', '-122.305', '-122.022', '-122.385', '-121.779',\n",
       "       '-122.032', '-122.482', '-122.2', '-122.227', '-122.333',\n",
       "       '-121.982', '-122.161', '-122.046', '-122.156', '-122.127',\n",
       "       '-122.33', '-122.041', '-122.318', '-122.271', '-121.955',\n",
       "       '-122.211', '-122.262', '-122.258', '-122.121', '-122.221',\n",
       "       '-122.234', '-122.089', '-122.167', '-121.909', '-122.107',\n",
       "       '-122.064', '-122.066', '-122.062', '-122.378', '-122.264',\n",
       "       '-122.186', '-122.087', '-122.363', '-122.139', '-122.018',\n",
       "       '-122.225', '-122.285', '-122.084', '-122.177', '-122.056',\n",
       "       '-122.316', '-122.021', '-122.205', '-122.348', '-122.009',\n",
       "       '-122.131', '-122.248', '-122.411', '-122.198', '-122.256',\n",
       "       '-122.117', '-122.097', '-122.075', '-121.845', '-122.083',\n",
       "       '-122.259', '-121.87', '-122.015', '-122.007', '-122.229',\n",
       "       '-121.86', '-122.409', '-121.755', '-121.972', '-122.251',\n",
       "       '-122.317', '-121.776', '-122.027', '-122.283', '-122.242',\n",
       "       '-122.001', '-122.024', '-122.309', '-122.113', '-121.771',\n",
       "       '-122.239', '-122.273', '-122.396', '-122.094', '-122.326',\n",
       "       '-122.13', '-122.269', '-122.402', '-121.853', '-122.05',\n",
       "       '-122.346', '-122.076', '-122.124', '-121.758', '-122.202',\n",
       "       '-121.785', '-122.004', '-122.321', '-121.882', '-122.298',\n",
       "       '-122.03', '-122.185', '-122.183', '-121.759', '-121.965',\n",
       "       '-122.201', '-122.366', '-122.313', '-122.405', '-122.02',\n",
       "       '-122.279', '-122.356', '-121.993', '-122.115', '-122.044',\n",
       "       '-122.134', '-122.355', '-121.867', '-121.991', '-121.983',\n",
       "       '-122.228', '-122.123', '-122.033', '-122.276', '-122.119',\n",
       "       '-121.937', '-122.361', '-122.325', '-122.136', '-122.006',\n",
       "       '-122.237', '-122.209', '-122.049', '-122.197', '-122.288',\n",
       "       '-122.106', '-122.203', '-122.037', '-122.207', '-122.1',\n",
       "       '-122.263', '-121.915', '-122.204', '-122.09', '-122.199',\n",
       "       '-122.069', '-122.382', '-121.787', '-121.976', '-122.059',\n",
       "       '-122.383', '-121.989', '-122.011', '-122.019', '-122.208',\n",
       "       '-121.878', '-122.01', '-122.328', '-122.25', '-122.338',\n",
       "       '-122.388', '-122.265', '-122.332', '-122.399', '-122.397',\n",
       "       '-121.956', '-122.092', '-122.028', '-122.12', '-122.035',\n",
       "       '-122.14', '-122.014', '-122.04', '-121.906', '-122.17',\n",
       "       '-122.238', '-122.512', '-121.997', '-121.89', '-122.463',\n",
       "       '-122.267', '-122.354', '-121.908', '-122.086', '-121.88',\n",
       "       '-121.913', '-122.163', '-121.918', '-122.108', '-122.389',\n",
       "       '-122.236', '-121.859', '-121.981', '-122.342', '-122.154',\n",
       "       '-121.96', '-121.978', '-122.47', '-122.377', '-121.966',\n",
       "       '-122.065', '-122.246', '-122.41', '-121.879', '-122.079',\n",
       "       '-122.293', '-122.099', '-121.98', '-122.002', '-122.138',\n",
       "       '-121.898', '-122.143', '-122.235', '-122.126', '-121.782',\n",
       "       '-121.995', '-122.401', '-122.187', '-121.858', '-121.888',\n",
       "       '-121.752', '-122.063', '-122.26', '-121.78', '-121.721',\n",
       "       '-122.403', '-122.243', '-122.392', '-122.008', '-122.45',\n",
       "       '-121.927', '-122.085', '-121.973', '-122.055', '-122.398',\n",
       "       '-121.984', '-121.912', '-121.903', '-121.946', '-122.15',\n",
       "       '-121.958', '-122.232', '-122.104', '-122.112', '-122.479',\n",
       "       '-121.864', '-122.155', '-121.833', '-121.778', '-121.926',\n",
       "       '-122.051', '-122.048', '-121.861', '-122.103', '-121.964',\n",
       "       '-122.253', '-122.142', '-122.074', '-122.247', '-122.497',\n",
       "       '-121.769', '-121.979', '-121.871', '-122.101', '-122.091',\n",
       "       '-122.245', '-121.92', '-122.406', '-121.359', '-121.789',\n",
       "       '-121.992', '-121.707', '-122.068', '-122.404', '-122.334',\n",
       "       '-121.799', '-121.774', '-121.985', '-121.865', '-121.724',\n",
       "       '-122.415', '-121.756', '-121.809', '-122.135', '-121.691',\n",
       "       '-121.877', '-121.94', '-122.088', '-121.968', '-121.988',\n",
       "       '-121.902', '-122.514', '-122.414', '-121.883', '-121.866',\n",
       "       '-121.744', '-122.412', '-122.096', '-122.061', '-121.745',\n",
       "       '-122.461', '-122.067', '-121.868', '-121.646', '-121.93',\n",
       "       '-122.105', '-121.763', '-121.718', '-121.777', '-122.038',\n",
       "       '-121.957', '-121.823', '-121.887', '-122.408', '-122.462',\n",
       "       '-121.967', '-122.456', '-121.897', '-121.932', '-121.969',\n",
       "       '-121.916', '-122.081', '-121.975', '-121.801', '-121.959',\n",
       "       '-121.761', '-121.723', '-121.924', '-122.475', '-121.935',\n",
       "       '-122.407', '-122.448', '-122.453', '-121.894', '-121.99',\n",
       "       '-121.936', '-121.764', '-121.315', '-121.905', '-122.464',\n",
       "       '-121.768', '-121.738', '-121.9', '-121.82', '-122.455',\n",
       "       '-121.889', '-121.829', '-122.505', '-121.847', '-122.509',\n",
       "       '-121.899', '-121.746', '-122.003', '-121.417', '-121.904',\n",
       "       '-122.503', '-121.949', '-121.994', '-121.874', '-122.432',\n",
       "       '-121.971', '-121.77', '-122.473', '-121.896', '-121.952',\n",
       "       '-122.254', '-121.743', '-121.933', '-121.749', '-121.473',\n",
       "       '-121.857', '-121.954', '-122.422', '-121.931', '-121.963',\n",
       "       '-122.441', '-121.925', '-121.352', '-122.511', '-122.413',\n",
       "       '-121.876', '-121.748', '-121.8', '-121.929', '-121.698',\n",
       "       '-121.886', '-122.416', '-121.802', '-121.81', '-121.762',\n",
       "       '-121.775', '-121.986', '-122.44', '-121.773', '-121.819',\n",
       "       '-121.726', '-121.892', '-122.459', '-122.446', '-121.855',\n",
       "       '-121.736', '-122.46', '-121.826', '-121.786', '-122.421',\n",
       "       '-122.439', '-121.834', '-121.804', '-122.443', '-121.716',\n",
       "       '-122.458', '-122.515', '-121.922', '-121.953', '-121.783',\n",
       "       '-122.472', '-121.944', '-121.869', '-121.828', '-122.452',\n",
       "       '-121.831', '-121.737', '-121.739', '-121.73', '-121.856',\n",
       "       '-121.747', '-121.733', '-121.846', '-121.821', '-121.319',\n",
       "       '-121.765', '-121.75', '-121.921', '-121.781', '-121.961',\n",
       "       '-121.863', '-122.507', '-121.881', '-121.914', '-122.469',\n",
       "       '-121.792', '-121.907', '-121.841', '-121.757', '-122.43',\n",
       "       '-121.788', '-121.731', '-122.449', '-121.951', '-121.316',\n",
       "       '-121.321', '-122.504', '-121.884', '-121.803', '-121.842',\n",
       "       '-121.719', '-121.766', '-121.872', '-121.851', '-121.402',\n",
       "       '-122.454', '-121.325', '-121.815', '-121.676', '-121.941',\n",
       "       '-122.445', '-121.742', '-121.822', '-121.895', '-121.784',\n",
       "       '-121.701', '-121.713', '-121.727', '-121.849', '-121.835',\n",
       "       '-122.465', '-122.474', '-121.939', '-121.48', '-121.948',\n",
       "       '-121.364', '-122.42', '-122.425', '-122.444', '-122.447',\n",
       "       '-121.945', '-121.827', '-122.491', '-121.917', '-121.891',\n",
       "       '-121.942', '-121.862', '-121.91', '-121.885', '-121.873',\n",
       "       '-121.405', '-121.735', '-122.486', '-121.795', '-121.734',\n",
       "       '-121.838', '-121.403'], dtype=object)"
      ]
     },
     "execution_count": 53,
     "metadata": {},
     "output_type": "execute_result"
    }
   ],
   "source": [
    "# check Unique Categories (as part of inpection for each of the 18 variables)\n",
    "df.longitude.unique()"
   ]
  },
  {
   "cell_type": "code",
   "execution_count": 54,
   "metadata": {},
   "outputs": [
    {
     "data": {
      "text/plain": [
       "-122.29     103\n",
       "-122.3      103\n",
       "-122.288     93\n",
       "-122.291     92\n",
       "-122.362     92\n",
       "           ... \n",
       "-122.432      1\n",
       "-121.402      1\n",
       "-121.417      1\n",
       "-121.907      1\n",
       "-121.921      1\n",
       "Name: longitude, Length: 728, dtype: int64"
      ]
     },
     "execution_count": 54,
     "metadata": {},
     "output_type": "execute_result"
    }
   ],
   "source": [
    "df['longitude'].value_counts()\n",
    "# interpret in this manner: 103 hses is on longt -122.29"
   ]
  },
  {
   "cell_type": "code",
   "execution_count": 55,
   "metadata": {},
   "outputs": [
    {
     "data": {
      "text/plain": [
       "array(['1340', '1690', '2720', '1360', '1800', '4760', '2238', '1650',\n",
       "       '1780', '2390', '2210', '1330', '1370', '2140', '1890', '1610',\n",
       "       '1060', '1280', '1400', '2240', '1220', '2200', '1030', '1760',\n",
       "       '1860', '1520', '2630', '2580', '1390', '1460', '2020', '1590',\n",
       "       '2160', '1730', '1290', '2620', '2410', '1580', '3050', '1228',\n",
       "       '970', '2680', '1190', '1990', '1410', '1480', '2730', '1950',\n",
       "       '2250', '2690', '2960', '2270', '2570', '1440', '2750', '2221',\n",
       "       '1010', '3530', '1640', '1510', '2420', '1940', '3240', '1680',\n",
       "       '890', '1130', '1870', '1850', '1570', '2520', '1750', '2550',\n",
       "       '2370', '1240', '1270', '2990', '2500', '1380', '2090', '1830',\n",
       "       '1620', '1880', '2340', '1710', '2700', '3060', '2660', '1700',\n",
       "       '1970', '1420', '2060', '2480', '1540', '1550', '1350', '1170',\n",
       "       '2820', '1560', '2230', '2840', '1450', '1500', '3160', '1980',\n",
       "       '1160', '1200', '3400', '2110', '2920', '1770', '1070', '1930',\n",
       "       '2260', '1670', '1050', '2540', '2190', '2030', '1230', '1900',\n",
       "       '2330', '1300', '1430', '2770', '1630', '2590', '2130', '1100',\n",
       "       '3836', '1320', '2120', '3070', '1910', '2080', '1960', '2280',\n",
       "       '2070', '2600', '830', '1260', '3120', '2010', '1660', '1600',\n",
       "       '3890', '4180', '2670', '1720', '3920', '2300', '2310', '2320',\n",
       "       '3150', '1740', '4550', '2510', '3860', '2150', '2350', '1310',\n",
       "       '1820', '3080', '1150', '880', '2560', '3470', '2380', '1020',\n",
       "       '2040', '2610', '2470', '1810', '2860', '3480', '3130', '3360',\n",
       "       '4050', '2450', '1790', '3180', '3600', '2000', '2430', '2850',\n",
       "       '4680', '2290', '3930', '2400', '3630', '2460', '1490', '2100',\n",
       "       '3230', '4300', '3390', '3850', '2424', '2830', '2900', '2950',\n",
       "       '1470', '940', '2740', '4210', '3340', '1920', '3980', '2180',\n",
       "       '3715', '2050', '1080', '2095', '1000', '3030', '3330', '2170',\n",
       "       '1408', '1530', '2760', '3110', '950', '2360', '1250', '3000',\n",
       "       '1307', '2220', '3250', '1110', '2870', '1210', '2910', '2440',\n",
       "       '1120', '4230', '1708', '3090', '3270', '3220', '2970', '1180',\n",
       "       '3100', '4100', '3510', '2688', '1840', '2640', '2490', '4090',\n",
       "       '2810', '3260', '3420', '1654', '1365', '1677', '1140', '3640',\n",
       "       '3460', '3140', '1502', '3440', '3720', '2790', '2940', '990',\n",
       "       '2890', '860', '4750', '1525', '5790', '760', '3430', '2880',\n",
       "       '2234', '960', '2780', '2800', '2305', '2665', '3620', '2710',\n",
       "       '4320', '2650', '980', '3370', '1509', '1277', '1981', '4640',\n",
       "       '3040', '3970', '3200', '4600', '840', '3290', '2214', '1162',\n",
       "       '3950', '3010', '5600', '3820', '3540', '1975', '2530', '3210',\n",
       "       '3350', '740', '3990', '3170', '1576', '2930', '3310', '2980',\n",
       "       '1429', '3900', '3380', '820', '1090', '3910', '3190', '3450',\n",
       "       '3730', '3020', '3320', '1132', '3300', '3770', '3960', '870',\n",
       "       '4620', '3520', '1572', '3490', '1088', '3159', '4470', '3570',\n",
       "       '4890', '3690', '3280', '3680', '2083', '3780', '1941', '850',\n",
       "       '2496', '1040', '2434', '3410', '4240', '4670', '4350', '1714',\n",
       "       '5380', '1768', '4330', '3830', '920', '2144', '4250', '4080',\n",
       "       '4110', '4190', '3660', '1458', '3736', '1894', '2037', '1295',\n",
       "       '4170', '3750', '3550', '4630', '3500', '2091', '900', '930',\n",
       "       '3880', '3710', '1616', '720', '800', '2315', '1564', '2767',\n",
       "       '3721', '4650', '4020', '780', '1728', '2027', '1264', '1404',\n",
       "       '1459', '2028', '3560', '3639', '1943', '3425', '2641', '2114',\n",
       "       '1309', '2412', '2517', '1802', '2011', '1414', '3193', '1845',\n",
       "       '1156', '3740', '3670', '1696', '5340', '4440', '1745', '1884',\n",
       "       '4690', '4920', '2406', '4160', '2848', '1746', '5330', '1536',\n",
       "       '2273', '3056', '4700', '910', '2125', '1665', '2683', '3790',\n",
       "       '700', '1855', '750', '1078', '4150', '4340', '2344', '1098',\n",
       "       '1175', '3580', '1188', '3700', '3840', '4042', '2518', '3800',\n",
       "       '3590', '4740', '5070', '2967', '4280', '2724', '3610', '810',\n",
       "       '3940', '4940', '1811', '4830', '1216', '5170', '2488', '1304',\n",
       "       '4590', '4130', '4060', '1492', '2168', '4140', '3543', '1303',\n",
       "       '3810', '2005', '3650', '2583', '4310', '2451', '1448', '2955',\n",
       "       '2142', '790', '1638', '2554', '2441', '2216', '5030', '4540',\n",
       "       '770', '3625', '4200', '3413', '1664', '3568', '4510', '1484',\n",
       "       '4480', '1358', '2106', '1834', '4390', '4570', '2175', '4260',\n",
       "       '710', '2112', '1302', '2622', '2382', '4560', '4000', '1336',\n",
       "       '3112', '1468', '2242', '1571', '2605', '1138', '4850', '2165',\n",
       "       '4290', '1678', '5610', '1984', '4660', '3870', '4370', '460',\n",
       "       '1914', '3515', '2246', '1786', '2109', '2326', '2728', '4400',\n",
       "       '4950', '1767', '4070', '2054', '2555', '2474', '2765', '1862',\n",
       "       '1352', '4030', '1439', '399', '2415', '2901', '1815', '2236',\n",
       "       '2253', '2004', '1356', '2403', '1256', '4930', '4040', '2376',\n",
       "       '4490', '3760', '1494', '2189', '2396', '1282', '2155', '4410',\n",
       "       '2389', '2256', '3618', '1326', '4913', '806', '4770', '1369',\n",
       "       '2405', '2875', '1425', '5220', '1442', '2333', '3335', '1321',\n",
       "       '3045', '1546', '4730', '2697', '2822', '1757', '4780', '952',\n",
       "       '4270', '2075', '2667', '1092', '1716', '1792', '2961', '1125',\n",
       "       '1463', '1886', '670', '4010', '4460', '5200', '2258', '1377',\n",
       "       '2019', '2092', '4900', '2615', '1639', '1765', '1554', '4220',\n",
       "       '1381', '4120', '5080', '1445', '2793', '2475', '2384', '2575',\n",
       "       '1398', '2439', '2197', '2029', '1443', '2052', '2437', '2547',\n",
       "       '6210', '2009', '1847', '1346', '2578', '2879', '2815', '1584',\n",
       "       '1608', '690', '2425', '1481', '2458', '2358', '2056', '2996',\n",
       "       '2502', '1798', '3087', '1076', '2981', '3557', '2363', '3191',\n",
       "       '1763', '1876', '1949', '2598', '1979', '1415', '2002', '2574',\n",
       "       '2166', '3726', '2099', '2154', '1522', '1544', '2912', '2648',\n",
       "       '1658', '4420', '2755', '2798', '4800', '1405', '2738', '3008',\n",
       "       '2873', '1232', '2597', '2516', '1128', '2849', '1399', '1131',\n",
       "       '1569', '1084', '2304', '4530', '2297', '2303', '2669', '4225',\n",
       "       '2513', '2725', '1955', '4443', '2478', '1919', '1813', '828',\n",
       "       '2015', '3078', '4495', '2673', '2316', '3402', '2419', '2156',\n",
       "       '3236', '2612', '2566', '2409', '1934', '2354', '1285', '1427',\n",
       "       '1516', '2077', '2456', '2844', '1495', '2594', '2604', '998',\n",
       "       '2198', '3038', '2927', '2647', '1805'], dtype=object)"
      ]
     },
     "execution_count": 55,
     "metadata": {},
     "output_type": "execute_result"
    }
   ],
   "source": [
    "# check Unique Categories (as part of inpection for each of the 18 variables)\n",
    "df.living_room_size.unique()"
   ]
  },
  {
   "cell_type": "code",
   "execution_count": 56,
   "metadata": {},
   "outputs": [
    {
     "data": {
      "text/plain": [
       "1440    190\n",
       "1540    185\n",
       "1560    178\n",
       "1500    168\n",
       "1720    159\n",
       "       ... \n",
       "2478      1\n",
       "1448      1\n",
       "1425      1\n",
       "4780      1\n",
       "1638      1\n",
       "Name: living_room_size, Length: 733, dtype: int64"
      ]
     },
     "execution_count": 56,
     "metadata": {},
     "output_type": "execute_result"
    }
   ],
   "source": [
    "df['living_room_size'].value_counts()\n",
    "# interpret in this manner: 190 hses has living_room_size 1440sqft"
   ]
  },
  {
   "cell_type": "code",
   "execution_count": 57,
   "metadata": {},
   "outputs": [
    {
     "data": {
      "text/plain": [
       "array(['5650', '7639', '8062', ..., '794', '60513', '25582'], dtype=object)"
      ]
     },
     "execution_count": 57,
     "metadata": {},
     "output_type": "execute_result"
    }
   ],
   "source": [
    "# check Unique Categories (as part of inpection for each of the 18 variables)\n",
    "df.lot_size.unique()"
   ]
  },
  {
   "cell_type": "code",
   "execution_count": 58,
   "metadata": {},
   "outputs": [
    {
     "data": {
      "text/plain": [
       "5000     372\n",
       "4000     333\n",
       "6000     256\n",
       "7200     193\n",
       "4800     130\n",
       "        ... \n",
       "8058       1\n",
       "49346      1\n",
       "15909      1\n",
       "24875      1\n",
       "8776       1\n",
       "Name: lot_size, Length: 7905, dtype: int64"
      ]
     },
     "execution_count": 58,
     "metadata": {},
     "output_type": "execute_result"
    }
   ],
   "source": [
    "df['lot_size'].value_counts()\n",
    "# interpret in this manner: 372 hses has lot_size 5000sqft"
   ]
  },
  {
   "cell_type": "code",
   "execution_count": 59,
   "metadata": {},
   "outputs": [
    {
     "data": {
      "text/html": [
       "<div>\n",
       "<style scoped>\n",
       "    .dataframe tbody tr th:only-of-type {\n",
       "        vertical-align: middle;\n",
       "    }\n",
       "\n",
       "    .dataframe tbody tr th {\n",
       "        vertical-align: top;\n",
       "    }\n",
       "\n",
       "    .dataframe thead th {\n",
       "        text-align: right;\n",
       "    }\n",
       "</style>\n",
       "<table border=\"1\" class=\"dataframe\">\n",
       "  <thead>\n",
       "    <tr style=\"text-align: right;\">\n",
       "      <th></th>\n",
       "      <th>price</th>\n",
       "      <th>bedrooms</th>\n",
       "      <th>bathrooms</th>\n",
       "      <th>floors</th>\n",
       "      <th>basement_size</th>\n",
       "      <th>living_room_size</th>\n",
       "      <th>lot_size</th>\n",
       "      <th>zipcode</th>\n",
       "      <th>latitude</th>\n",
       "      <th>longitude</th>\n",
       "      <th>review_score</th>\n",
       "      <th>condition1</th>\n",
       "      <th>house_age</th>\n",
       "    </tr>\n",
       "  </thead>\n",
       "  <tbody>\n",
       "    <tr>\n",
       "      <th>0</th>\n",
       "      <td>221900</td>\n",
       "      <td>3</td>\n",
       "      <td>1</td>\n",
       "      <td>1</td>\n",
       "      <td>0</td>\n",
       "      <td>1340</td>\n",
       "      <td>5650</td>\n",
       "      <td>98178</td>\n",
       "      <td>47.5112</td>\n",
       "      <td>-122.257</td>\n",
       "      <td>10</td>\n",
       "      <td>3</td>\n",
       "      <td>59</td>\n",
       "    </tr>\n",
       "    <tr>\n",
       "      <th>1</th>\n",
       "      <td>538000</td>\n",
       "      <td>3</td>\n",
       "      <td>2.25</td>\n",
       "      <td>2</td>\n",
       "      <td>400</td>\n",
       "      <td>1690</td>\n",
       "      <td>7639</td>\n",
       "      <td>98125</td>\n",
       "      <td>47.721</td>\n",
       "      <td>-122.319</td>\n",
       "      <td>7</td>\n",
       "      <td>3</td>\n",
       "      <td>63</td>\n",
       "    </tr>\n",
       "    <tr>\n",
       "      <th>2</th>\n",
       "      <td>180000</td>\n",
       "      <td>2</td>\n",
       "      <td>1</td>\n",
       "      <td>1</td>\n",
       "      <td>0</td>\n",
       "      <td>2720</td>\n",
       "      <td>8062</td>\n",
       "      <td>98028</td>\n",
       "      <td>47.7379</td>\n",
       "      <td>-122.233</td>\n",
       "      <td>8</td>\n",
       "      <td>3</td>\n",
       "      <td>82</td>\n",
       "    </tr>\n",
       "    <tr>\n",
       "      <th>3</th>\n",
       "      <td>604000</td>\n",
       "      <td>4</td>\n",
       "      <td>3</td>\n",
       "      <td>1</td>\n",
       "      <td>910</td>\n",
       "      <td>1360</td>\n",
       "      <td>5000</td>\n",
       "      <td>98136</td>\n",
       "      <td>47.5208</td>\n",
       "      <td>-122.393</td>\n",
       "      <td>6</td>\n",
       "      <td>5</td>\n",
       "      <td>49</td>\n",
       "    </tr>\n",
       "    <tr>\n",
       "      <th>4</th>\n",
       "      <td>510000</td>\n",
       "      <td>3</td>\n",
       "      <td>2</td>\n",
       "      <td>1</td>\n",
       "      <td>0</td>\n",
       "      <td>1800</td>\n",
       "      <td>7503</td>\n",
       "      <td>98074</td>\n",
       "      <td>47.6168</td>\n",
       "      <td>-122.045</td>\n",
       "      <td>6</td>\n",
       "      <td>3</td>\n",
       "      <td>28</td>\n",
       "    </tr>\n",
       "  </tbody>\n",
       "</table>\n",
       "</div>"
      ],
      "text/plain": [
       "    price bedrooms bathrooms floors basement_size living_room_size lot_size  \\\n",
       "0  221900        3         1      1             0             1340     5650   \n",
       "1  538000        3      2.25      2           400             1690     7639   \n",
       "2  180000        2         1      1             0             2720     8062   \n",
       "3  604000        4         3      1           910             1360     5000   \n",
       "4  510000        3         2      1             0             1800     7503   \n",
       "\n",
       "  zipcode latitude longitude review_score  condition1  house_age  \n",
       "0   98178  47.5112  -122.257           10           3         59  \n",
       "1   98125   47.721  -122.319            7           3         63  \n",
       "2   98028  47.7379  -122.233            8           3         82  \n",
       "3   98136  47.5208  -122.393            6           5         49  \n",
       "4   98074  47.6168  -122.045            6           3         28  "
      ]
     },
     "execution_count": 59,
     "metadata": {},
     "output_type": "execute_result"
    }
   ],
   "source": [
    "# revised dataset; reaarange col for better viewing: \n",
    "## Tgt-Y 'price'; follow by Indept Variables x 'date_mth' till 'house_age'\n",
    "\n",
    "df = df[['price', 'bedrooms', 'bathrooms', 'floors', 'basement_size',\n",
    "       'living_room_size','lot_size', 'zipcode', 'latitude', 'longitude', \n",
    "       'review_score', 'condition1','house_age']]\n",
    "# check if correctly done\n",
    "df.head()"
   ]
  },
  {
   "cell_type": "markdown",
   "metadata": {},
   "source": [
    "# (3) Review Statistics & carry Feature Engineering"
   ]
  },
  {
   "cell_type": "code",
   "execution_count": 60,
   "metadata": {},
   "outputs": [],
   "source": [
    "# need convert object type to numeric for processing statisitcs, arithmetic etc (Numeric Variables), \n",
    "df[\"bedrooms\"] = pd.to_numeric(df[\"bedrooms\"])\n",
    "df[\"bathrooms\"] = pd.to_numeric(df[\"bathrooms\"])\n",
    "df[\"floors\"] = pd.to_numeric(df[\"floors\"])\n",
    "df[\"basement_size\"] = pd.to_numeric(df[\"basement_size\"])\n",
    "df[\"living_room_size\"] = pd.to_numeric(df[\"living_room_size\"])\n",
    "df[\"lot_size\"] = pd.to_numeric(df[\"lot_size\"])\n",
    "df[\"zipcode\"] = pd.to_numeric(df[\"zipcode\"])\n",
    "df[\"latitude\"] = pd.to_numeric(df[\"latitude\"])\n",
    "df[\"longitude\"] = pd.to_numeric(df[\"longitude\"])\n",
    "df[\"review_score\"] = pd.to_numeric(df[\"review_score\"])\n",
    "df[\"condition1\"] = pd.to_numeric(df[\"condition1\"])\n",
    "df[\"house_age\"] = pd.to_numeric(df[\"house_age\"])\n",
    "df[\"price\"] = pd.to_numeric(df[\"price\"])"
   ]
  },
  {
   "cell_type": "code",
   "execution_count": 61,
   "metadata": {},
   "outputs": [
    {
     "data": {
      "text/html": [
       "<div>\n",
       "<style scoped>\n",
       "    .dataframe tbody tr th:only-of-type {\n",
       "        vertical-align: middle;\n",
       "    }\n",
       "\n",
       "    .dataframe tbody tr th {\n",
       "        vertical-align: top;\n",
       "    }\n",
       "\n",
       "    .dataframe thead th {\n",
       "        text-align: right;\n",
       "    }\n",
       "</style>\n",
       "<table border=\"1\" class=\"dataframe\">\n",
       "  <thead>\n",
       "    <tr style=\"text-align: right;\">\n",
       "      <th></th>\n",
       "      <th>price</th>\n",
       "      <th>bedrooms</th>\n",
       "      <th>bathrooms</th>\n",
       "      <th>floors</th>\n",
       "      <th>basement_size</th>\n",
       "      <th>living_room_size</th>\n",
       "      <th>lot_size</th>\n",
       "      <th>zipcode</th>\n",
       "      <th>latitude</th>\n",
       "      <th>longitude</th>\n",
       "      <th>review_score</th>\n",
       "      <th>condition1</th>\n",
       "      <th>house_age</th>\n",
       "    </tr>\n",
       "  </thead>\n",
       "  <tbody>\n",
       "    <tr>\n",
       "      <th>count</th>\n",
       "      <td>1.968800e+04</td>\n",
       "      <td>19688.000000</td>\n",
       "      <td>19688.000000</td>\n",
       "      <td>19688.000000</td>\n",
       "      <td>19688.000000</td>\n",
       "      <td>19688.000000</td>\n",
       "      <td>19688.000000</td>\n",
       "      <td>19688.000000</td>\n",
       "      <td>19688.000000</td>\n",
       "      <td>19688.000000</td>\n",
       "      <td>19688.000000</td>\n",
       "      <td>19688.000000</td>\n",
       "      <td>19688.000000</td>\n",
       "    </tr>\n",
       "    <tr>\n",
       "      <th>mean</th>\n",
       "      <td>5.434626e+05</td>\n",
       "      <td>3.371495</td>\n",
       "      <td>2.115553</td>\n",
       "      <td>1.495175</td>\n",
       "      <td>292.394453</td>\n",
       "      <td>1988.706217</td>\n",
       "      <td>12846.990807</td>\n",
       "      <td>98078.000762</td>\n",
       "      <td>47.561199</td>\n",
       "      <td>-122.213786</td>\n",
       "      <td>7.657964</td>\n",
       "      <td>3.408218</td>\n",
       "      <td>43.353210</td>\n",
       "    </tr>\n",
       "    <tr>\n",
       "      <th>std</th>\n",
       "      <td>3.733997e+05</td>\n",
       "      <td>0.904515</td>\n",
       "      <td>0.771053</td>\n",
       "      <td>0.540391</td>\n",
       "      <td>444.848677</td>\n",
       "      <td>686.733246</td>\n",
       "      <td>27567.625277</td>\n",
       "      <td>53.452090</td>\n",
       "      <td>0.138121</td>\n",
       "      <td>0.140946</td>\n",
       "      <td>1.177340</td>\n",
       "      <td>0.650172</td>\n",
       "      <td>29.382085</td>\n",
       "    </tr>\n",
       "    <tr>\n",
       "      <th>min</th>\n",
       "      <td>7.500000e+04</td>\n",
       "      <td>0.000000</td>\n",
       "      <td>0.000000</td>\n",
       "      <td>1.000000</td>\n",
       "      <td>0.000000</td>\n",
       "      <td>399.000000</td>\n",
       "      <td>651.000000</td>\n",
       "      <td>98001.000000</td>\n",
       "      <td>47.155900</td>\n",
       "      <td>-122.515000</td>\n",
       "      <td>1.000000</td>\n",
       "      <td>1.000000</td>\n",
       "      <td>-1.000000</td>\n",
       "    </tr>\n",
       "    <tr>\n",
       "      <th>25%</th>\n",
       "      <td>3.230000e+05</td>\n",
       "      <td>3.000000</td>\n",
       "      <td>1.750000</td>\n",
       "      <td>1.000000</td>\n",
       "      <td>0.000000</td>\n",
       "      <td>1490.000000</td>\n",
       "      <td>5100.000000</td>\n",
       "      <td>98033.000000</td>\n",
       "      <td>47.473000</td>\n",
       "      <td>-122.328000</td>\n",
       "      <td>7.000000</td>\n",
       "      <td>3.000000</td>\n",
       "      <td>18.000000</td>\n",
       "    </tr>\n",
       "    <tr>\n",
       "      <th>50%</th>\n",
       "      <td>4.520000e+05</td>\n",
       "      <td>3.000000</td>\n",
       "      <td>2.250000</td>\n",
       "      <td>1.500000</td>\n",
       "      <td>0.000000</td>\n",
       "      <td>1840.000000</td>\n",
       "      <td>7620.000000</td>\n",
       "      <td>98065.000000</td>\n",
       "      <td>47.573050</td>\n",
       "      <td>-122.231000</td>\n",
       "      <td>7.000000</td>\n",
       "      <td>3.000000</td>\n",
       "      <td>40.000000</td>\n",
       "    </tr>\n",
       "    <tr>\n",
       "      <th>75%</th>\n",
       "      <td>6.500000e+05</td>\n",
       "      <td>4.000000</td>\n",
       "      <td>2.500000</td>\n",
       "      <td>2.000000</td>\n",
       "      <td>560.000000</td>\n",
       "      <td>2370.000000</td>\n",
       "      <td>10089.500000</td>\n",
       "      <td>98118.000000</td>\n",
       "      <td>47.678600</td>\n",
       "      <td>-122.125000</td>\n",
       "      <td>8.000000</td>\n",
       "      <td>4.000000</td>\n",
       "      <td>63.000000</td>\n",
       "    </tr>\n",
       "    <tr>\n",
       "      <th>max</th>\n",
       "      <td>7.700000e+06</td>\n",
       "      <td>11.000000</td>\n",
       "      <td>8.000000</td>\n",
       "      <td>3.500000</td>\n",
       "      <td>4820.000000</td>\n",
       "      <td>6210.000000</td>\n",
       "      <td>871200.000000</td>\n",
       "      <td>98199.000000</td>\n",
       "      <td>47.777600</td>\n",
       "      <td>-121.315000</td>\n",
       "      <td>13.000000</td>\n",
       "      <td>5.000000</td>\n",
       "      <td>115.000000</td>\n",
       "    </tr>\n",
       "  </tbody>\n",
       "</table>\n",
       "</div>"
      ],
      "text/plain": [
       "              price      bedrooms     bathrooms        floors  basement_size  \\\n",
       "count  1.968800e+04  19688.000000  19688.000000  19688.000000   19688.000000   \n",
       "mean   5.434626e+05      3.371495      2.115553      1.495175     292.394453   \n",
       "std    3.733997e+05      0.904515      0.771053      0.540391     444.848677   \n",
       "min    7.500000e+04      0.000000      0.000000      1.000000       0.000000   \n",
       "25%    3.230000e+05      3.000000      1.750000      1.000000       0.000000   \n",
       "50%    4.520000e+05      3.000000      2.250000      1.500000       0.000000   \n",
       "75%    6.500000e+05      4.000000      2.500000      2.000000     560.000000   \n",
       "max    7.700000e+06     11.000000      8.000000      3.500000    4820.000000   \n",
       "\n",
       "       living_room_size       lot_size       zipcode      latitude  \\\n",
       "count      19688.000000   19688.000000  19688.000000  19688.000000   \n",
       "mean        1988.706217   12846.990807  98078.000762     47.561199   \n",
       "std          686.733246   27567.625277     53.452090      0.138121   \n",
       "min          399.000000     651.000000  98001.000000     47.155900   \n",
       "25%         1490.000000    5100.000000  98033.000000     47.473000   \n",
       "50%         1840.000000    7620.000000  98065.000000     47.573050   \n",
       "75%         2370.000000   10089.500000  98118.000000     47.678600   \n",
       "max         6210.000000  871200.000000  98199.000000     47.777600   \n",
       "\n",
       "          longitude  review_score    condition1     house_age  \n",
       "count  19688.000000  19688.000000  19688.000000  19688.000000  \n",
       "mean    -122.213786      7.657964      3.408218     43.353210  \n",
       "std        0.140946      1.177340      0.650172     29.382085  \n",
       "min     -122.515000      1.000000      1.000000     -1.000000  \n",
       "25%     -122.328000      7.000000      3.000000     18.000000  \n",
       "50%     -122.231000      7.000000      3.000000     40.000000  \n",
       "75%     -122.125000      8.000000      4.000000     63.000000  \n",
       "max     -121.315000     13.000000      5.000000    115.000000  "
      ]
     },
     "execution_count": 61,
     "metadata": {},
     "output_type": "execute_result"
    }
   ],
   "source": [
    "df.describe()\n",
    "\n",
    "# => Basic Check to ensure data make sense:\n",
    "# => Count, is consistent across all features 19688, date_mth Max is 12 (mths) etc\n",
    "# => Sales Price-1: Mean is slightly higher than Median, Distribution skewed to the right; could be some extreme outlier \n",
    "# => Sales Price-2: StdDev is quite high, data points are spread out over wide range of values\n",
    "# => Sales Price-3: Highest is $7.7m, Mean ($5.4x100,000 = $540k), Lowest is (7.5x10,0000 = $75k),"
   ]
  },
  {
   "cell_type": "code",
   "execution_count": 62,
   "metadata": {},
   "outputs": [
    {
     "data": {
      "text/plain": [
       "(19688, 13)"
      ]
     },
     "execution_count": 62,
     "metadata": {},
     "output_type": "execute_result"
    }
   ],
   "source": [
    "df.shape"
   ]
  },
  {
   "cell_type": "code",
   "execution_count": 63,
   "metadata": {},
   "outputs": [],
   "source": [
    " # Data Visualization"
   ]
  },
  {
   "cell_type": "code",
   "execution_count": 64,
   "metadata": {},
   "outputs": [
    {
     "data": {
      "text/plain": [
       "<matplotlib.axes._subplots.AxesSubplot at 0x2102317fc50>"
      ]
     },
     "execution_count": 64,
     "metadata": {},
     "output_type": "execute_result"
    },
    {
     "data": {
      "image/png": "[encoded data removed]",
      "text/plain": [
       "<Figure size 720x576 with 2 Axes>"
      ]
     },
     "metadata": {
      "needs_background": "light"
     },
     "output_type": "display_data"
    }
   ],
   "source": [
    "### Check Correlation\n",
    "\n",
    "fig, ax = plt.subplots(figsize=(10, 8))\n",
    "corr = df.corr()\n",
    "sns.heatmap(corr,\n",
    "            xticklabels=corr.columns.values,\n",
    "            yticklabels=corr.columns.values, annot=True)\n",
    "\n",
    "## => 'bathrooms', 'living_room_size' are highly positively corelated to 'price' "
   ]
  },
  {
   "cell_type": "code",
   "execution_count": 65,
   "metadata": {},
   "outputs": [
    {
     "data": {
      "text/html": [
       "<div>\n",
       "<style scoped>\n",
       "    .dataframe tbody tr th:only-of-type {\n",
       "        vertical-align: middle;\n",
       "    }\n",
       "\n",
       "    .dataframe tbody tr th {\n",
       "        vertical-align: top;\n",
       "    }\n",
       "\n",
       "    .dataframe thead th {\n",
       "        text-align: right;\n",
       "    }\n",
       "</style>\n",
       "<table border=\"1\" class=\"dataframe\">\n",
       "  <thead>\n",
       "    <tr style=\"text-align: right;\">\n",
       "      <th></th>\n",
       "      <th>price</th>\n",
       "      <th>bedrooms</th>\n",
       "      <th>bathrooms</th>\n",
       "      <th>floors</th>\n",
       "      <th>basement_size</th>\n",
       "      <th>living_room_size</th>\n",
       "      <th>lot_size</th>\n",
       "      <th>zipcode</th>\n",
       "      <th>latitude</th>\n",
       "      <th>longitude</th>\n",
       "      <th>review_score</th>\n",
       "      <th>condition1</th>\n",
       "      <th>house_age</th>\n",
       "    </tr>\n",
       "  </thead>\n",
       "  <tbody>\n",
       "    <tr>\n",
       "      <th>price</th>\n",
       "      <td>1.000000</td>\n",
       "      <td>0.315279</td>\n",
       "      <td>0.528041</td>\n",
       "      <td>0.256469</td>\n",
       "      <td>0.334542</td>\n",
       "      <td>0.582707</td>\n",
       "      <td>0.087524</td>\n",
       "      <td>-0.057145</td>\n",
       "      <td>0.303502</td>\n",
       "      <td>0.022582</td>\n",
       "      <td>-0.004101</td>\n",
       "      <td>0.038228</td>\n",
       "      <td>-0.055014</td>\n",
       "    </tr>\n",
       "    <tr>\n",
       "      <th>bedrooms</th>\n",
       "      <td>0.315279</td>\n",
       "      <td>1.000000</td>\n",
       "      <td>0.527727</td>\n",
       "      <td>0.180175</td>\n",
       "      <td>0.312821</td>\n",
       "      <td>0.402722</td>\n",
       "      <td>0.032374</td>\n",
       "      <td>-0.160195</td>\n",
       "      <td>-0.008686</td>\n",
       "      <td>0.137262</td>\n",
       "      <td>0.002368</td>\n",
       "      <td>0.028183</td>\n",
       "      <td>-0.155735</td>\n",
       "    </tr>\n",
       "    <tr>\n",
       "      <th>bathrooms</th>\n",
       "      <td>0.528041</td>\n",
       "      <td>0.527727</td>\n",
       "      <td>1.000000</td>\n",
       "      <td>0.498475</td>\n",
       "      <td>0.291291</td>\n",
       "      <td>0.568835</td>\n",
       "      <td>0.092895</td>\n",
       "      <td>-0.203633</td>\n",
       "      <td>0.029500</td>\n",
       "      <td>0.221941</td>\n",
       "      <td>0.001182</td>\n",
       "      <td>-0.124622</td>\n",
       "      <td>-0.504861</td>\n",
       "    </tr>\n",
       "    <tr>\n",
       "      <th>floors</th>\n",
       "      <td>0.256469</td>\n",
       "      <td>0.180175</td>\n",
       "      <td>0.498475</td>\n",
       "      <td>1.000000</td>\n",
       "      <td>-0.242860</td>\n",
       "      <td>0.275800</td>\n",
       "      <td>-0.015844</td>\n",
       "      <td>-0.053411</td>\n",
       "      <td>0.053485</td>\n",
       "      <td>0.119798</td>\n",
       "      <td>-0.004031</td>\n",
       "      <td>-0.256286</td>\n",
       "      <td>-0.484997</td>\n",
       "    </tr>\n",
       "    <tr>\n",
       "      <th>basement_size</th>\n",
       "      <td>0.334542</td>\n",
       "      <td>0.312821</td>\n",
       "      <td>0.291291</td>\n",
       "      <td>-0.242860</td>\n",
       "      <td>1.000000</td>\n",
       "      <td>0.207573</td>\n",
       "      <td>0.021676</td>\n",
       "      <td>0.068963</td>\n",
       "      <td>0.107781</td>\n",
       "      <td>-0.140768</td>\n",
       "      <td>0.002962</td>\n",
       "      <td>0.171109</td>\n",
       "      <td>0.129348</td>\n",
       "    </tr>\n",
       "    <tr>\n",
       "      <th>living_room_size</th>\n",
       "      <td>0.582707</td>\n",
       "      <td>0.402722</td>\n",
       "      <td>0.568835</td>\n",
       "      <td>0.275800</td>\n",
       "      <td>0.207573</td>\n",
       "      <td>1.000000</td>\n",
       "      <td>0.189605</td>\n",
       "      <td>-0.280765</td>\n",
       "      <td>0.052238</td>\n",
       "      <td>0.334888</td>\n",
       "      <td>0.006078</td>\n",
       "      <td>-0.089823</td>\n",
       "      <td>-0.325168</td>\n",
       "    </tr>\n",
       "    <tr>\n",
       "      <th>lot_size</th>\n",
       "      <td>0.087524</td>\n",
       "      <td>0.032374</td>\n",
       "      <td>0.092895</td>\n",
       "      <td>-0.015844</td>\n",
       "      <td>0.021676</td>\n",
       "      <td>0.189605</td>\n",
       "      <td>1.000000</td>\n",
       "      <td>-0.146856</td>\n",
       "      <td>-0.085763</td>\n",
       "      <td>0.257801</td>\n",
       "      <td>0.007916</td>\n",
       "      <td>-0.003445</td>\n",
       "      <td>-0.069599</td>\n",
       "    </tr>\n",
       "    <tr>\n",
       "      <th>zipcode</th>\n",
       "      <td>-0.057145</td>\n",
       "      <td>-0.160195</td>\n",
       "      <td>-0.203633</td>\n",
       "      <td>-0.053411</td>\n",
       "      <td>0.068963</td>\n",
       "      <td>-0.280765</td>\n",
       "      <td>-0.146856</td>\n",
       "      <td>1.000000</td>\n",
       "      <td>0.262351</td>\n",
       "      <td>-0.565405</td>\n",
       "      <td>-0.008900</td>\n",
       "      <td>-0.001889</td>\n",
       "      <td>0.341654</td>\n",
       "    </tr>\n",
       "    <tr>\n",
       "      <th>latitude</th>\n",
       "      <td>0.303502</td>\n",
       "      <td>-0.008686</td>\n",
       "      <td>0.029500</td>\n",
       "      <td>0.053485</td>\n",
       "      <td>0.107781</td>\n",
       "      <td>0.052238</td>\n",
       "      <td>-0.085763</td>\n",
       "      <td>0.262351</td>\n",
       "      <td>1.000000</td>\n",
       "      <td>-0.136692</td>\n",
       "      <td>-0.006577</td>\n",
       "      <td>-0.016263</td>\n",
       "      <td>0.140964</td>\n",
       "    </tr>\n",
       "    <tr>\n",
       "      <th>longitude</th>\n",
       "      <td>0.022582</td>\n",
       "      <td>0.137262</td>\n",
       "      <td>0.221941</td>\n",
       "      <td>0.119798</td>\n",
       "      <td>-0.140768</td>\n",
       "      <td>0.334888</td>\n",
       "      <td>0.257801</td>\n",
       "      <td>-0.565405</td>\n",
       "      <td>-0.136692</td>\n",
       "      <td>1.000000</td>\n",
       "      <td>0.002731</td>\n",
       "      <td>-0.100846</td>\n",
       "      <td>-0.405729</td>\n",
       "    </tr>\n",
       "    <tr>\n",
       "      <th>review_score</th>\n",
       "      <td>-0.004101</td>\n",
       "      <td>0.002368</td>\n",
       "      <td>0.001182</td>\n",
       "      <td>-0.004031</td>\n",
       "      <td>0.002962</td>\n",
       "      <td>0.006078</td>\n",
       "      <td>0.007916</td>\n",
       "      <td>-0.008900</td>\n",
       "      <td>-0.006577</td>\n",
       "      <td>0.002731</td>\n",
       "      <td>1.000000</td>\n",
       "      <td>0.001456</td>\n",
       "      <td>-0.003310</td>\n",
       "    </tr>\n",
       "    <tr>\n",
       "      <th>condition1</th>\n",
       "      <td>0.038228</td>\n",
       "      <td>0.028183</td>\n",
       "      <td>-0.124622</td>\n",
       "      <td>-0.256286</td>\n",
       "      <td>0.171109</td>\n",
       "      <td>-0.089823</td>\n",
       "      <td>-0.003445</td>\n",
       "      <td>-0.001889</td>\n",
       "      <td>-0.016263</td>\n",
       "      <td>-0.100846</td>\n",
       "      <td>0.001456</td>\n",
       "      <td>1.000000</td>\n",
       "      <td>0.359703</td>\n",
       "    </tr>\n",
       "    <tr>\n",
       "      <th>house_age</th>\n",
       "      <td>-0.055014</td>\n",
       "      <td>-0.155735</td>\n",
       "      <td>-0.504861</td>\n",
       "      <td>-0.484997</td>\n",
       "      <td>0.129348</td>\n",
       "      <td>-0.325168</td>\n",
       "      <td>-0.069599</td>\n",
       "      <td>0.341654</td>\n",
       "      <td>0.140964</td>\n",
       "      <td>-0.405729</td>\n",
       "      <td>-0.003310</td>\n",
       "      <td>0.359703</td>\n",
       "      <td>1.000000</td>\n",
       "    </tr>\n",
       "  </tbody>\n",
       "</table>\n",
       "</div>"
      ],
      "text/plain": [
       "                     price  bedrooms  bathrooms    floors  basement_size  \\\n",
       "price             1.000000  0.315279   0.528041  0.256469       0.334542   \n",
       "bedrooms          0.315279  1.000000   0.527727  0.180175       0.312821   \n",
       "bathrooms         0.528041  0.527727   1.000000  0.498475       0.291291   \n",
       "floors            0.256469  0.180175   0.498475  1.000000      -0.242860   \n",
       "basement_size     0.334542  0.312821   0.291291 -0.242860       1.000000   \n",
       "living_room_size  0.582707  0.402722   0.568835  0.275800       0.207573   \n",
       "lot_size          0.087524  0.032374   0.092895 -0.015844       0.021676   \n",
       "zipcode          -0.057145 -0.160195  -0.203633 -0.053411       0.068963   \n",
       "latitude          0.303502 -0.008686   0.029500  0.053485       0.107781   \n",
       "longitude         0.022582  0.137262   0.221941  0.119798      -0.140768   \n",
       "review_score     -0.004101  0.002368   0.001182 -0.004031       0.002962   \n",
       "condition1        0.038228  0.028183  -0.124622 -0.256286       0.171109   \n",
       "house_age        -0.055014 -0.155735  -0.504861 -0.484997       0.129348   \n",
       "\n",
       "                  living_room_size  lot_size   zipcode  latitude  longitude  \\\n",
       "price                     0.582707  0.087524 -0.057145  0.303502   0.022582   \n",
       "bedrooms                  0.402722  0.032374 -0.160195 -0.008686   0.137262   \n",
       "bathrooms                 0.568835  0.092895 -0.203633  0.029500   0.221941   \n",
       "floors                    0.275800 -0.015844 -0.053411  0.053485   0.119798   \n",
       "basement_size             0.207573  0.021676  0.068963  0.107781  -0.140768   \n",
       "living_room_size          1.000000  0.189605 -0.280765  0.052238   0.334888   \n",
       "lot_size                  0.189605  1.000000 -0.146856 -0.085763   0.257801   \n",
       "zipcode                  -0.280765 -0.146856  1.000000  0.262351  -0.565405   \n",
       "latitude                  0.052238 -0.085763  0.262351  1.000000  -0.136692   \n",
       "longitude                 0.334888  0.257801 -0.565405 -0.136692   1.000000   \n",
       "review_score              0.006078  0.007916 -0.008900 -0.006577   0.002731   \n",
       "condition1               -0.089823 -0.003445 -0.001889 -0.016263  -0.100846   \n",
       "house_age                -0.325168 -0.069599  0.341654  0.140964  -0.405729   \n",
       "\n",
       "                  review_score  condition1  house_age  \n",
       "price                -0.004101    0.038228  -0.055014  \n",
       "bedrooms              0.002368    0.028183  -0.155735  \n",
       "bathrooms             0.001182   -0.124622  -0.504861  \n",
       "floors               -0.004031   -0.256286  -0.484997  \n",
       "basement_size         0.002962    0.171109   0.129348  \n",
       "living_room_size      0.006078   -0.089823  -0.325168  \n",
       "lot_size              0.007916   -0.003445  -0.069599  \n",
       "zipcode              -0.008900   -0.001889   0.341654  \n",
       "latitude             -0.006577   -0.016263   0.140964  \n",
       "longitude             0.002731   -0.100846  -0.405729  \n",
       "review_score          1.000000    0.001456  -0.003310  \n",
       "condition1            0.001456    1.000000   0.359703  \n",
       "house_age            -0.003310    0.359703   1.000000  "
      ]
     },
     "execution_count": 65,
     "metadata": {},
     "output_type": "execute_result"
    }
   ],
   "source": [
    "df.corr()"
   ]
  },
  {
   "cell_type": "code",
   "execution_count": 66,
   "metadata": {},
   "outputs": [
    {
     "data": {
      "text/html": [
       "<div>\n",
       "<style scoped>\n",
       "    .dataframe tbody tr th:only-of-type {\n",
       "        vertical-align: middle;\n",
       "    }\n",
       "\n",
       "    .dataframe tbody tr th {\n",
       "        vertical-align: top;\n",
       "    }\n",
       "\n",
       "    .dataframe thead th {\n",
       "        text-align: right;\n",
       "    }\n",
       "</style>\n",
       "<table border=\"1\" class=\"dataframe\">\n",
       "  <thead>\n",
       "    <tr style=\"text-align: right;\">\n",
       "      <th></th>\n",
       "      <th>price</th>\n",
       "      <th>bedrooms</th>\n",
       "      <th>bathrooms</th>\n",
       "      <th>floors</th>\n",
       "      <th>basement_size</th>\n",
       "      <th>living_room_size</th>\n",
       "      <th>lot_size</th>\n",
       "      <th>latitude</th>\n",
       "      <th>longitude</th>\n",
       "      <th>condition1</th>\n",
       "      <th>house_age</th>\n",
       "    </tr>\n",
       "  </thead>\n",
       "  <tbody>\n",
       "    <tr>\n",
       "      <th>0</th>\n",
       "      <td>221900</td>\n",
       "      <td>3</td>\n",
       "      <td>1.00</td>\n",
       "      <td>1.0</td>\n",
       "      <td>0</td>\n",
       "      <td>1340</td>\n",
       "      <td>5650</td>\n",
       "      <td>47.5112</td>\n",
       "      <td>-122.257</td>\n",
       "      <td>3</td>\n",
       "      <td>59</td>\n",
       "    </tr>\n",
       "    <tr>\n",
       "      <th>1</th>\n",
       "      <td>538000</td>\n",
       "      <td>3</td>\n",
       "      <td>2.25</td>\n",
       "      <td>2.0</td>\n",
       "      <td>400</td>\n",
       "      <td>1690</td>\n",
       "      <td>7639</td>\n",
       "      <td>47.7210</td>\n",
       "      <td>-122.319</td>\n",
       "      <td>3</td>\n",
       "      <td>63</td>\n",
       "    </tr>\n",
       "    <tr>\n",
       "      <th>2</th>\n",
       "      <td>180000</td>\n",
       "      <td>2</td>\n",
       "      <td>1.00</td>\n",
       "      <td>1.0</td>\n",
       "      <td>0</td>\n",
       "      <td>2720</td>\n",
       "      <td>8062</td>\n",
       "      <td>47.7379</td>\n",
       "      <td>-122.233</td>\n",
       "      <td>3</td>\n",
       "      <td>82</td>\n",
       "    </tr>\n",
       "    <tr>\n",
       "      <th>3</th>\n",
       "      <td>604000</td>\n",
       "      <td>4</td>\n",
       "      <td>3.00</td>\n",
       "      <td>1.0</td>\n",
       "      <td>910</td>\n",
       "      <td>1360</td>\n",
       "      <td>5000</td>\n",
       "      <td>47.5208</td>\n",
       "      <td>-122.393</td>\n",
       "      <td>5</td>\n",
       "      <td>49</td>\n",
       "    </tr>\n",
       "    <tr>\n",
       "      <th>4</th>\n",
       "      <td>510000</td>\n",
       "      <td>3</td>\n",
       "      <td>2.00</td>\n",
       "      <td>1.0</td>\n",
       "      <td>0</td>\n",
       "      <td>1800</td>\n",
       "      <td>7503</td>\n",
       "      <td>47.6168</td>\n",
       "      <td>-122.045</td>\n",
       "      <td>3</td>\n",
       "      <td>28</td>\n",
       "    </tr>\n",
       "  </tbody>\n",
       "</table>\n",
       "</div>"
      ],
      "text/plain": [
       "    price  bedrooms  bathrooms  floors  basement_size  living_room_size  \\\n",
       "0  221900         3       1.00     1.0              0              1340   \n",
       "1  538000         3       2.25     2.0            400              1690   \n",
       "2  180000         2       1.00     1.0              0              2720   \n",
       "3  604000         4       3.00     1.0            910              1360   \n",
       "4  510000         3       2.00     1.0              0              1800   \n",
       "\n",
       "   lot_size  latitude  longitude  condition1  house_age  \n",
       "0      5650   47.5112   -122.257           3         59  \n",
       "1      7639   47.7210   -122.319           3         63  \n",
       "2      8062   47.7379   -122.233           3         82  \n",
       "3      5000   47.5208   -122.393           5         49  \n",
       "4      7503   47.6168   -122.045           3         28  "
      ]
     },
     "execution_count": 66,
     "metadata": {},
     "output_type": "execute_result"
    }
   ],
   "source": [
    "# drop \"zipcode\" as can use Latitude-Logitude for anlysis on the geographical spread of houses vs price,\n",
    "# \"review_score\" has neglible correl with price at -004101\n",
    "\n",
    "df = df[['price', 'bedrooms', 'bathrooms', 'floors', 'basement_size',\n",
    "       'living_room_size','lot_size', 'latitude', 'longitude', \n",
    "       'condition1','house_age']]\n",
    "# check if correctly done\n",
    "df.head()"
   ]
  },
  {
   "cell_type": "code",
   "execution_count": 67,
   "metadata": {},
   "outputs": [
    {
     "data": {
      "text/plain": [
       "(19688, 11)"
      ]
     },
     "execution_count": 67,
     "metadata": {},
     "output_type": "execute_result"
    }
   ],
   "source": [
    "df.shape\n",
    "# 13 -2 (\"zipcode\", \"review_score\")"
   ]
  },
  {
   "cell_type": "code",
   "execution_count": 68,
   "metadata": {},
   "outputs": [
    {
     "data": {
      "text/plain": [
       "<seaborn.axisgrid.JointGrid at 0x21022f67470>"
      ]
     },
     "execution_count": 68,
     "metadata": {},
     "output_type": "execute_result"
    },
    {
     "data": {
      "image/png": "[encoded data removed]",
      "text/plain": [
       "<Figure size 360x360 with 3 Axes>"
      ]
     },
     "metadata": {
      "needs_background": "light"
     },
     "output_type": "display_data"
    }
   ],
   "source": [
    "# Visualize Location Characteristics\n",
    "sns.jointplot(x=df['latitude'], y=df['longitude'], height=5)"
   ]
  },
  {
   "cell_type": "code",
   "execution_count": 69,
   "metadata": {},
   "outputs": [],
   "source": [
    "## majority of hosue sales is between shaded area (Lat 47.2 to 47.8, Long -121.8 to -122.4)\n",
    "## within the shaded area high sales between area (Lat 47.5 to 47.8, Long -122 to -122.4)"
   ]
  },
  {
   "cell_type": "code",
   "execution_count": 70,
   "metadata": {},
   "outputs": [
    {
     "data": {
      "image/png": "[encoded data removed]",
      "text/plain": [
       "<Figure size 1440x720 with 11 Axes>"
      ]
     },
     "metadata": {
      "needs_background": "light"
     },
     "output_type": "display_data"
    }
   ],
   "source": [
    "# check Outliers\n",
    "l = df.columns.values\n",
    "fig,ax = plt.subplots(1,11,figsize=(20,10))\n",
    "for i in range(11):\n",
    "    plt.subplot(1, 11, i+1)\n",
    "    sns.set_style('whitegrid')\n",
    "    sns.boxplot(df[l[i]],color='green',orient='v')\n",
    "    plt.tight_layout()\n",
    "\n",
    "# => price, bedrooms, bathrooms, basement_size, living_room_size, lot_size, longitude, all had outliers"
   ]
  },
  {
   "cell_type": "code",
   "execution_count": 71,
   "metadata": {},
   "outputs": [],
   "source": [
    "## need address Outliners for \"price\", \"bedrooms\", \"bathrooms\", \"basement_size\", \"living_room_size\", \"lot_size\", \"longitude\""
   ]
  },
  {
   "cell_type": "code",
   "execution_count": 72,
   "metadata": {},
   "outputs": [
    {
     "data": {
      "text/plain": [
       "327000.0"
      ]
     },
     "execution_count": 72,
     "metadata": {},
     "output_type": "execute_result"
    }
   ],
   "source": [
    "### Outliers in \"price\"\n",
    "#### Lets compute the Interquantile range to calculate the boundaries\n",
    "IQR=df.price.quantile(0.75)-df.price.quantile(0.25)\n",
    "IQR"
   ]
  },
  {
   "cell_type": "code",
   "execution_count": 73,
   "metadata": {},
   "outputs": [
    {
     "name": "stdout",
     "output_type": "stream",
     "text": [
      "-658000.0\n",
      "1631000.0\n"
     ]
    },
    {
     "data": {
      "text/plain": [
       "(None, None)"
      ]
     },
     "execution_count": 73,
     "metadata": {},
     "output_type": "execute_result"
    }
   ],
   "source": [
    "lower_bridge=df['price'].quantile(0.25)-(IQR*3) #IQR*3 as the distri is skewed (right)\n",
    "upper_bridge=df['price'].quantile(0.75)+(IQR*3)\n",
    "print(lower_bridge), print(upper_bridge)"
   ]
  },
  {
   "cell_type": "code",
   "execution_count": 74,
   "metadata": {},
   "outputs": [],
   "source": [
    "df.loc[df['price']>=1631000,'price']=1631000 # any beyond upper bridge will be set upper bridge limit"
   ]
  },
  {
   "cell_type": "code",
   "execution_count": 75,
   "metadata": {},
   "outputs": [
    {
     "data": {
      "text/plain": [
       "1.0"
      ]
     },
     "execution_count": 75,
     "metadata": {},
     "output_type": "execute_result"
    }
   ],
   "source": [
    "### Outliers in \"bedrooms\"\n",
    "#### Lets compute the Interquantile range to calculate the boundaries\n",
    "IQR=df.bedrooms.quantile(0.75)-df.bedrooms.quantile(0.25)\n",
    "IQR"
   ]
  },
  {
   "cell_type": "code",
   "execution_count": 76,
   "metadata": {},
   "outputs": [
    {
     "name": "stdout",
     "output_type": "stream",
     "text": [
      "0.0\n",
      "7.0\n"
     ]
    },
    {
     "data": {
      "text/plain": [
       "(None, None)"
      ]
     },
     "execution_count": 76,
     "metadata": {},
     "output_type": "execute_result"
    }
   ],
   "source": [
    "lower_bridge=df['bedrooms'].quantile(0.25)-(IQR*3) #IQR*3 as the distri is skewed (right)\n",
    "upper_bridge=df['bedrooms'].quantile(0.75)+(IQR*3)\n",
    "print(lower_bridge), print(upper_bridge)"
   ]
  },
  {
   "cell_type": "code",
   "execution_count": 77,
   "metadata": {},
   "outputs": [],
   "source": [
    "df.loc[df['bedrooms']>=7,'bedrooms']=7 # any beyond upper bridge will be set upper bridge limit"
   ]
  },
  {
   "cell_type": "code",
   "execution_count": 78,
   "metadata": {},
   "outputs": [
    {
     "data": {
      "text/plain": [
       "0.75"
      ]
     },
     "execution_count": 78,
     "metadata": {},
     "output_type": "execute_result"
    }
   ],
   "source": [
    "### Outliers in \"bathrooms\"\n",
    "#### Lets compute the Interquantile range to calculate the boundaries\n",
    "IQR=df.bathrooms.quantile(0.75)-df.bathrooms.quantile(0.25)\n",
    "IQR"
   ]
  },
  {
   "cell_type": "code",
   "execution_count": 79,
   "metadata": {},
   "outputs": [
    {
     "name": "stdout",
     "output_type": "stream",
     "text": [
      "-0.5\n",
      "4.75\n"
     ]
    },
    {
     "data": {
      "text/plain": [
       "(None, None)"
      ]
     },
     "execution_count": 79,
     "metadata": {},
     "output_type": "execute_result"
    }
   ],
   "source": [
    "lower_bridge=df['bathrooms'].quantile(0.25)-(IQR*3) #IQR*3 as the distri is skewed (right)\n",
    "upper_bridge=df['bathrooms'].quantile(0.75)+(IQR*3)\n",
    "print(lower_bridge), print(upper_bridge)"
   ]
  },
  {
   "cell_type": "code",
   "execution_count": 80,
   "metadata": {},
   "outputs": [],
   "source": [
    "df.loc[df['bathrooms']>=4,'bathrooms']=4 # any beyond upper bridge will be set upper bridge limit"
   ]
  },
  {
   "cell_type": "code",
   "execution_count": 81,
   "metadata": {},
   "outputs": [
    {
     "data": {
      "text/plain": [
       "560.0"
      ]
     },
     "execution_count": 81,
     "metadata": {},
     "output_type": "execute_result"
    }
   ],
   "source": [
    "### Outliers in \"basement_size\"\n",
    "#### Lets compute the Interquantile range to calculate the boundaries\n",
    "IQR=df.basement_size.quantile(0.75)-df.basement_size.quantile(0.25)\n",
    "IQR"
   ]
  },
  {
   "cell_type": "code",
   "execution_count": 82,
   "metadata": {},
   "outputs": [
    {
     "name": "stdout",
     "output_type": "stream",
     "text": [
      "-1680.0\n",
      "2240.0\n"
     ]
    },
    {
     "data": {
      "text/plain": [
       "(None, None)"
      ]
     },
     "execution_count": 82,
     "metadata": {},
     "output_type": "execute_result"
    }
   ],
   "source": [
    "lower_bridge=df['basement_size'].quantile(0.25)-(IQR*3) #IQR*3 as the distri is skewed (right)\n",
    "upper_bridge=df['basement_size'].quantile(0.75)+(IQR*3)\n",
    "print(lower_bridge), print(upper_bridge)"
   ]
  },
  {
   "cell_type": "code",
   "execution_count": 83,
   "metadata": {},
   "outputs": [],
   "source": [
    "df.loc[df['basement_size']>=2240,'basement_size']=2240 # any beyond upper bridge will be set upper bridge limit"
   ]
  },
  {
   "cell_type": "code",
   "execution_count": 84,
   "metadata": {},
   "outputs": [
    {
     "data": {
      "text/plain": [
       "880.0"
      ]
     },
     "execution_count": 84,
     "metadata": {},
     "output_type": "execute_result"
    }
   ],
   "source": [
    "### Outliers in \"living_room_size\"\n",
    "#### Lets compute the Interquantile range to calculate the boundaries\n",
    "IQR=df.living_room_size.quantile(0.75)-df.living_room_size.quantile(0.25)\n",
    "IQR"
   ]
  },
  {
   "cell_type": "code",
   "execution_count": 85,
   "metadata": {},
   "outputs": [
    {
     "name": "stdout",
     "output_type": "stream",
     "text": [
      "-1150.0\n",
      "5010.0\n"
     ]
    },
    {
     "data": {
      "text/plain": [
       "(None, None)"
      ]
     },
     "execution_count": 85,
     "metadata": {},
     "output_type": "execute_result"
    }
   ],
   "source": [
    "lower_bridge=df['living_room_size'].quantile(0.25)-(IQR*3) #IQR*3 as the distri is skewed (right)\n",
    "upper_bridge=df['living_room_size'].quantile(0.75)+(IQR*3)\n",
    "print(lower_bridge), print(upper_bridge)"
   ]
  },
  {
   "cell_type": "code",
   "execution_count": 86,
   "metadata": {},
   "outputs": [],
   "source": [
    "df.loc[df['living_room_size']>=5010,'living_room_size']=5010 # any beyond upper bridge will be set upper bridge limit"
   ]
  },
  {
   "cell_type": "code",
   "execution_count": 87,
   "metadata": {},
   "outputs": [
    {
     "data": {
      "text/plain": [
       "4989.5"
      ]
     },
     "execution_count": 87,
     "metadata": {},
     "output_type": "execute_result"
    }
   ],
   "source": [
    "### Outliers in \"lot_size\"\n",
    "#### Lets compute the Interquantile range to calculate the boundaries\n",
    "IQR=df.lot_size.quantile(0.75)-df.lot_size.quantile(0.25)\n",
    "IQR"
   ]
  },
  {
   "cell_type": "code",
   "execution_count": 88,
   "metadata": {},
   "outputs": [
    {
     "name": "stdout",
     "output_type": "stream",
     "text": [
      "-9868.5\n",
      "25058.0\n"
     ]
    },
    {
     "data": {
      "text/plain": [
       "(None, None)"
      ]
     },
     "execution_count": 88,
     "metadata": {},
     "output_type": "execute_result"
    }
   ],
   "source": [
    "lower_bridge=df['lot_size'].quantile(0.25)-(IQR*3) #IQR*3 as the distri is skewed (right)\n",
    "upper_bridge=df['lot_size'].quantile(0.75)+(IQR*3)\n",
    "print(lower_bridge), print(upper_bridge)"
   ]
  },
  {
   "cell_type": "code",
   "execution_count": 89,
   "metadata": {},
   "outputs": [],
   "source": [
    "df.loc[df['lot_size']>=25058,'lot_size']=25058 # any beyond upper bridge will be set upper bridge limit"
   ]
  },
  {
   "cell_type": "code",
   "execution_count": 90,
   "metadata": {},
   "outputs": [
    {
     "data": {
      "text/plain": [
       "0.20299999999998875"
      ]
     },
     "execution_count": 90,
     "metadata": {},
     "output_type": "execute_result"
    }
   ],
   "source": [
    "### Outliers in \"longitude\"\n",
    "#### Lets compute the Interquantile range to calculate the boundaries\n",
    "IQR=df.longitude.quantile(0.75)-df.longitude.quantile(0.25)\n",
    "IQR"
   ]
  },
  {
   "cell_type": "code",
   "execution_count": 91,
   "metadata": {},
   "outputs": [
    {
     "name": "stdout",
     "output_type": "stream",
     "text": [
      "-122.93699999999995\n",
      "-121.51600000000003\n"
     ]
    },
    {
     "data": {
      "text/plain": [
       "(None, None)"
      ]
     },
     "execution_count": 91,
     "metadata": {},
     "output_type": "execute_result"
    }
   ],
   "source": [
    "lower_bridge=df['longitude'].quantile(0.25)-(IQR*3) #IQR*3 as the distri is skewed (right)\n",
    "upper_bridge=df['longitude'].quantile(0.75)+(IQR*3)\n",
    "print(lower_bridge), print(upper_bridge)"
   ]
  },
  {
   "cell_type": "code",
   "execution_count": 92,
   "metadata": {},
   "outputs": [],
   "source": [
    "df.loc[df['longitude']>=-121,'longitude']=-121 # any beyond upper bridge will be set upper bridge limit"
   ]
  },
  {
   "cell_type": "code",
   "execution_count": 93,
   "metadata": {},
   "outputs": [],
   "source": [
    "# Check Distribution & Skewness"
   ]
  },
  {
   "cell_type": "code",
   "execution_count": 94,
   "metadata": {},
   "outputs": [
    {
     "data": {
      "image/png": "[encoded data removed]",
      "text/plain": [
       "<Figure size 1440x720 with 11 Axes>"
      ]
     },
     "metadata": {},
     "output_type": "display_data"
    }
   ],
   "source": [
    "plt.figure(figsize=(20,10))\n",
    "for i in range(11):\n",
    "    plt.subplot(1, 11, i+1)\n",
    "    sns.distplot(df[l[i]],kde=True)\n",
    "    \n",
    "# => from Distribution, bathrooms, basement_size, living_room_size, lot_size, longitude, price are right skewed\n",
    "# => need Scaling i.e. Standardization"
   ]
  },
  {
   "cell_type": "code",
   "execution_count": 95,
   "metadata": {},
   "outputs": [],
   "source": [
    "# Processing File: Scaling (Standardization-Normalize and center numeric values; i.e. features in diff unit of measures)"
   ]
  },
  {
   "cell_type": "code",
   "execution_count": 96,
   "metadata": {},
   "outputs": [
    {
     "data": {
      "text/html": [
       "<div>\n",
       "<style scoped>\n",
       "    .dataframe tbody tr th:only-of-type {\n",
       "        vertical-align: middle;\n",
       "    }\n",
       "\n",
       "    .dataframe tbody tr th {\n",
       "        vertical-align: top;\n",
       "    }\n",
       "\n",
       "    .dataframe thead th {\n",
       "        text-align: right;\n",
       "    }\n",
       "</style>\n",
       "<table border=\"1\" class=\"dataframe\">\n",
       "  <thead>\n",
       "    <tr style=\"text-align: right;\">\n",
       "      <th></th>\n",
       "      <th>bedrooms</th>\n",
       "      <th>bathrooms</th>\n",
       "      <th>floors</th>\n",
       "      <th>basement_size</th>\n",
       "      <th>living_room_size</th>\n",
       "      <th>lot_size</th>\n",
       "      <th>latitude</th>\n",
       "      <th>longitude</th>\n",
       "      <th>condition1</th>\n",
       "      <th>house_age</th>\n",
       "    </tr>\n",
       "  </thead>\n",
       "  <tbody>\n",
       "    <tr>\n",
       "      <th>0</th>\n",
       "      <td>-0.412766</td>\n",
       "      <td>-1.493557</td>\n",
       "      <td>-0.916350</td>\n",
       "      <td>-0.662416</td>\n",
       "      <td>-0.947138</td>\n",
       "      <td>-0.555790</td>\n",
       "      <td>-0.362001</td>\n",
       "      <td>-0.306612</td>\n",
       "      <td>-0.627878</td>\n",
       "      <td>0.532542</td>\n",
       "    </tr>\n",
       "    <tr>\n",
       "      <th>1</th>\n",
       "      <td>-0.412766</td>\n",
       "      <td>0.193505</td>\n",
       "      <td>0.934209</td>\n",
       "      <td>0.246348</td>\n",
       "      <td>-0.435755</td>\n",
       "      <td>-0.221968</td>\n",
       "      <td>1.156992</td>\n",
       "      <td>-0.746509</td>\n",
       "      <td>-0.627878</td>\n",
       "      <td>0.668683</td>\n",
       "    </tr>\n",
       "    <tr>\n",
       "      <th>2</th>\n",
       "      <td>-1.528590</td>\n",
       "      <td>-1.493557</td>\n",
       "      <td>-0.916350</td>\n",
       "      <td>-0.662416</td>\n",
       "      <td>1.069174</td>\n",
       "      <td>-0.150974</td>\n",
       "      <td>1.279351</td>\n",
       "      <td>-0.136329</td>\n",
       "      <td>-0.627878</td>\n",
       "      <td>1.315352</td>\n",
       "    </tr>\n",
       "    <tr>\n",
       "      <th>3</th>\n",
       "      <td>0.703057</td>\n",
       "      <td>1.205742</td>\n",
       "      <td>-0.916350</td>\n",
       "      <td>1.405021</td>\n",
       "      <td>-0.917916</td>\n",
       "      <td>-0.664883</td>\n",
       "      <td>-0.292495</td>\n",
       "      <td>-1.271548</td>\n",
       "      <td>2.448311</td>\n",
       "      <td>0.192190</td>\n",
       "    </tr>\n",
       "    <tr>\n",
       "      <th>4</th>\n",
       "      <td>-0.412766</td>\n",
       "      <td>-0.143908</td>\n",
       "      <td>-0.916350</td>\n",
       "      <td>-0.662416</td>\n",
       "      <td>-0.275034</td>\n",
       "      <td>-0.244793</td>\n",
       "      <td>0.402563</td>\n",
       "      <td>1.197553</td>\n",
       "      <td>-0.627878</td>\n",
       "      <td>-0.522550</td>\n",
       "    </tr>\n",
       "  </tbody>\n",
       "</table>\n",
       "</div>"
      ],
      "text/plain": [
       "   bedrooms  bathrooms    floors  basement_size  living_room_size  lot_size  \\\n",
       "0 -0.412766  -1.493557 -0.916350      -0.662416         -0.947138 -0.555790   \n",
       "1 -0.412766   0.193505  0.934209       0.246348         -0.435755 -0.221968   \n",
       "2 -1.528590  -1.493557 -0.916350      -0.662416          1.069174 -0.150974   \n",
       "3  0.703057   1.205742 -0.916350       1.405021         -0.917916 -0.664883   \n",
       "4 -0.412766  -0.143908 -0.916350      -0.662416         -0.275034 -0.244793   \n",
       "\n",
       "   latitude  longitude  condition1  house_age  \n",
       "0 -0.362001  -0.306612   -0.627878   0.532542  \n",
       "1  1.156992  -0.746509   -0.627878   0.668683  \n",
       "2  1.279351  -0.136329   -0.627878   1.315352  \n",
       "3 -0.292495  -1.271548    2.448311   0.192190  \n",
       "4  0.402563   1.197553   -0.627878  -0.522550  "
      ]
     },
     "execution_count": 96,
     "metadata": {},
     "output_type": "execute_result"
    }
   ],
   "source": [
    "# Scaling on all the Independent Variables\n",
    "from sklearn import datasets, linear_model, preprocessing\n",
    "\n",
    "names = df[['bedrooms', 'bathrooms', 'floors', 'basement_size',\n",
    "       'living_room_size','lot_size', 'latitude', 'longitude', \n",
    "       'condition1','house_age']].columns\n",
    "scaler = preprocessing.StandardScaler()\n",
    "scaled_df = scaler.fit_transform(df[['bedrooms', 'bathrooms', 'floors', 'basement_size',\n",
    "       'living_room_size','lot_size', 'latitude', 'longitude', \n",
    "       'condition1','house_age']])\n",
    "scaled_df = pd.DataFrame(scaled_df, columns=names)\n",
    "scaled_df.head()"
   ]
  },
  {
   "cell_type": "code",
   "execution_count": 98,
   "metadata": {},
   "outputs": [
    {
     "data": {
      "text/plain": [
       "<seaborn.axisgrid.JointGrid at 0x2102465a780>"
      ]
     },
     "execution_count": 98,
     "metadata": {},
     "output_type": "execute_result"
    },
    {
     "data": {
      "image/png": "[encoded data removed]",
      "text/plain": [
       "<Figure size 360x360 with 3 Axes>"
      ]
     },
     "metadata": {},
     "output_type": "display_data"
    }
   ],
   "source": [
    "sns.jointplot(x=df['bedrooms'], y=df['price'], height=5)\n",
    "\n",
    "#=> 0 bedrm sell $0.2m to $0.4m, most sales happen for 2 to 6 bedrms price is widely spread, thus more opportunity \n",
    "#=> for negotiation"
   ]
  },
  {
   "cell_type": "code",
   "execution_count": null,
   "metadata": {},
   "outputs": [],
   "source": [
    "# Some Findings from EDA"
   ]
  },
  {
   "cell_type": "code",
   "execution_count": 99,
   "metadata": {},
   "outputs": [
    {
     "data": {
      "text/plain": [
       "<seaborn.axisgrid.JointGrid at 0x210275e6780>"
      ]
     },
     "execution_count": 99,
     "metadata": {},
     "output_type": "execute_result"
    },
    {
     "data": {
      "image/png": "[encoded data removed]",
      "text/plain": [
       "<Figure size 360x360 with 3 Axes>"
      ]
     },
     "metadata": {},
     "output_type": "display_data"
    }
   ],
   "source": [
    "sns.jointplot(x=df['bathrooms'], y=df['price'], height=5)\n",
    "\n",
    "#=> 2 or more bathrm hse min price is higher, esp 4 bathrm min is abt $0.25M"
   ]
  },
  {
   "cell_type": "code",
   "execution_count": 100,
   "metadata": {},
   "outputs": [
    {
     "data": {
      "text/plain": [
       "<seaborn.axisgrid.JointGrid at 0x21026f42630>"
      ]
     },
     "execution_count": 100,
     "metadata": {},
     "output_type": "execute_result"
    },
    {
     "data": {
      "image/png": "[encoded data removed]",
      "text/plain": [
       "<Figure size 360x360 with 3 Axes>"
      ]
     },
     "metadata": {},
     "output_type": "display_data"
    }
   ],
   "source": [
    "sns.jointplot(x=df['floors'], y=df['price'], height=5)\n",
    "\n",
    "#=> 1 to 2 flr hse min price is almost same, 2.5 to 3had higher min price, 3.5 had higher price but lesser transactions "
   ]
  },
  {
   "cell_type": "code",
   "execution_count": 101,
   "metadata": {},
   "outputs": [
    {
     "data": {
      "text/plain": [
       "<seaborn.axisgrid.JointGrid at 0x21027b75278>"
      ]
     },
     "execution_count": 101,
     "metadata": {},
     "output_type": "execute_result"
    },
    {
     "data": {
      "image/png": "[encoded data removed]",
      "text/plain": [
       "<Figure size 360x360 with 3 Axes>"
      ]
     },
     "metadata": {},
     "output_type": "display_data"
    }
   ],
   "source": [
    "sns.jointplot(x=df['basement_size'], y=df['price'], height=5)\n",
    "\n",
    "#=> most sales happened for basement below 1000sft, above 1000sft command higher min price"
   ]
  },
  {
   "cell_type": "code",
   "execution_count": 102,
   "metadata": {},
   "outputs": [
    {
     "data": {
      "text/plain": [
       "<seaborn.axisgrid.JointGrid at 0x21027dc6748>"
      ]
     },
     "execution_count": 102,
     "metadata": {},
     "output_type": "execute_result"
    },
    {
     "data": {
      "image/png": "[encoded data removed]",
      "text/plain": [
       "<Figure size 360x360 with 3 Axes>"
      ]
     },
     "metadata": {},
     "output_type": "display_data"
    }
   ],
   "source": [
    "sns.jointplot(x=df['living_room_size'], y=df['price'], height=5)\n",
    "\n",
    "#=> most optimal sales shd be hse with livrm btw 2000 to 4000 sft as transactions is high & price is higher too"
   ]
  },
  {
   "cell_type": "code",
   "execution_count": 103,
   "metadata": {},
   "outputs": [
    {
     "data": {
      "text/plain": [
       "<seaborn.axisgrid.JointGrid at 0x21027f4bc18>"
      ]
     },
     "execution_count": 103,
     "metadata": {},
     "output_type": "execute_result"
    },
    {
     "data": {
      "image/png": "[encoded data removed]",
      "text/plain": [
       "<Figure size 360x360 with 3 Axes>"
      ]
     },
     "metadata": {},
     "output_type": "display_data"
    }
   ],
   "source": [
    "sns.jointplot(x=df['lot_size'], y=df['price'], height=5)\n",
    "\n",
    "#=> Lot-size btw 10000 to 15000sft had higher min price & high transactions vol"
   ]
  },
  {
   "cell_type": "code",
   "execution_count": 104,
   "metadata": {},
   "outputs": [
    {
     "data": {
      "text/plain": [
       "<seaborn.axisgrid.JointGrid at 0x210290afc88>"
      ]
     },
     "execution_count": 104,
     "metadata": {},
     "output_type": "execute_result"
    },
    {
     "data": {
      "image/png": "[encoded data removed]",
      "text/plain": [
       "<Figure size 360x360 with 3 Axes>"
      ]
     },
     "metadata": {},
     "output_type": "display_data"
    }
   ],
   "source": [
    "sns.jointplot(x=df['condition1'], y=df['price'], height=5)\n",
    "\n",
    "#=> Hse Condition doesn't seem to give better min price"
   ]
  },
  {
   "cell_type": "code",
   "execution_count": 105,
   "metadata": {},
   "outputs": [
    {
     "data": {
      "text/plain": [
       "<seaborn.axisgrid.JointGrid at 0x210292a9278>"
      ]
     },
     "execution_count": 105,
     "metadata": {},
     "output_type": "execute_result"
    },
    {
     "data": {
      "image/png": "[encoded data removed]",
      "text/plain": [
       "<Figure size 360x360 with 3 Axes>"
      ]
     },
     "metadata": {},
     "output_type": "display_data"
    }
   ],
   "source": [
    "sns.jointplot(x=df['house_age'], y=df['price'], height=5)\n",
    "\n",
    "#=> Hse age, seem the older hse is not affected, thus agent can tgt and reno such old hse to sell"
   ]
  },
  {
   "cell_type": "code",
   "execution_count": 97,
   "metadata": {},
   "outputs": [],
   "source": [
    "df.to_csv('EDA_forML.csv',index=False)"
   ]
  },
  {
   "cell_type": "code",
   "execution_count": null,
   "metadata": {},
   "outputs": [],
   "source": []
  }
 ],
 "metadata": {
  "kernelspec": {
   "display_name": "Python 3",
   "language": "python",
   "name": "python3"
  },
  "language_info": {
   "codemirror_mode": {
    "name": "ipython",
    "version": 3
   },
   "file_extension": ".py",
   "mimetype": "text/x-python",
   "name": "python",
   "nbconvert_exporter": "python",
   "pygments_lexer": "ipython3",
   "version": "3.7.3"
  }
 },
 "nbformat": 4,
 "nbformat_minor": 2
}
